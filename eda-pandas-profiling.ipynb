{
 "cells": [
  {
   "cell_type": "code",
   "id": "initial_id",
   "metadata": {
    "collapsed": true,
    "ExecuteTime": {
     "end_time": "2025-06-25T20:48:13.702391Z",
     "start_time": "2025-06-25T20:48:11.899896Z"
    }
   },
   "source": [
    "import pandas as pd\n",
    "import sweetviz as sv\n",
    "\n"
   ],
   "outputs": [],
   "execution_count": 18
  },
  {
   "metadata": {
    "ExecuteTime": {
     "end_time": "2025-06-25T20:51:06.657593Z",
     "start_time": "2025-06-25T20:51:06.085863Z"
    }
   },
   "cell_type": "code",
   "source": [
    "df=pd.read_csv('gurgaon_properties_cleaned_v2.csv')\n",
    "report = sv.analyze(df)\n",
    "report.show_html(\"sweetviz_eda_report.html\")\n"
   ],
   "id": "d75b87c6d5ec3e3",
   "outputs": [
    {
     "name": "stderr",
     "output_type": "stream",
     "text": [
      "Feature: price                               |█▌        | [ 16%]   00:00 -> (00:01 left)"
     ]
    },
    {
     "ename": "AttributeError",
     "evalue": "module 'numpy' has no attribute 'VisibleDeprecationWarning'",
     "output_type": "error",
     "traceback": [
      "\u001B[31m---------------------------------------------------------------------------\u001B[39m",
      "\u001B[31mAttributeError\u001B[39m                            Traceback (most recent call last)",
      "\u001B[36mCell\u001B[39m\u001B[36m \u001B[39m\u001B[32mIn[21]\u001B[39m\u001B[32m, line 2\u001B[39m\n\u001B[32m      1\u001B[39m df=pd.read_csv(\u001B[33m'\u001B[39m\u001B[33mgurgaon_properties_cleaned_v2.csv\u001B[39m\u001B[33m'\u001B[39m)\n\u001B[32m----> \u001B[39m\u001B[32m2\u001B[39m report = \u001B[43msv\u001B[49m\u001B[43m.\u001B[49m\u001B[43manalyze\u001B[49m\u001B[43m(\u001B[49m\u001B[43mdf\u001B[49m\u001B[43m)\u001B[49m\n\u001B[32m      3\u001B[39m report.show_html(\u001B[33m\"\u001B[39m\u001B[33msweetviz_eda_report.html\u001B[39m\u001B[33m\"\u001B[39m)\n",
      "\u001B[36mFile \u001B[39m\u001B[32m~\\PycharmProjects\\capstone\\.venv\\Lib\\site-packages\\sweetviz\\sv_public.py:12\u001B[39m, in \u001B[36manalyze\u001B[39m\u001B[34m(source, target_feat, feat_cfg, pairwise_analysis)\u001B[39m\n\u001B[32m      8\u001B[39m \u001B[38;5;28;01mdef\u001B[39;00m\u001B[38;5;250m \u001B[39m\u001B[34manalyze\u001B[39m(source: Union[pd.DataFrame, Tuple[pd.DataFrame, \u001B[38;5;28mstr\u001B[39m]],\n\u001B[32m      9\u001B[39m             target_feat: \u001B[38;5;28mstr\u001B[39m = \u001B[38;5;28;01mNone\u001B[39;00m,\n\u001B[32m     10\u001B[39m             feat_cfg: FeatureConfig = \u001B[38;5;28;01mNone\u001B[39;00m,\n\u001B[32m     11\u001B[39m             pairwise_analysis: \u001B[38;5;28mstr\u001B[39m = \u001B[33m'\u001B[39m\u001B[33mauto\u001B[39m\u001B[33m'\u001B[39m):\n\u001B[32m---> \u001B[39m\u001B[32m12\u001B[39m     report = \u001B[43msweetviz\u001B[49m\u001B[43m.\u001B[49m\u001B[43mDataframeReport\u001B[49m\u001B[43m(\u001B[49m\u001B[43msource\u001B[49m\u001B[43m,\u001B[49m\u001B[43m \u001B[49m\u001B[43mtarget_feat\u001B[49m\u001B[43m,\u001B[49m\u001B[43m \u001B[49m\u001B[38;5;28;43;01mNone\u001B[39;49;00m\u001B[43m,\u001B[49m\n\u001B[32m     13\u001B[39m \u001B[43m                                      \u001B[49m\u001B[43mpairwise_analysis\u001B[49m\u001B[43m,\u001B[49m\u001B[43m \u001B[49m\u001B[43mfeat_cfg\u001B[49m\u001B[43m)\u001B[49m\n\u001B[32m     14\u001B[39m     \u001B[38;5;28;01mreturn\u001B[39;00m report\n",
      "\u001B[36mFile \u001B[39m\u001B[32m~\\PycharmProjects\\capstone\\.venv\\Lib\\site-packages\\sweetviz\\dataframe_report.py:277\u001B[39m, in \u001B[36mDataframeReport.__init__\u001B[39m\u001B[34m(self, source, target_feature_name, compare, pairwise_analysis, fc, verbosity)\u001B[39m\n\u001B[32m    274\u001B[39m \u001B[38;5;28;01mfor\u001B[39;00m f \u001B[38;5;129;01min\u001B[39;00m features_to_process:\n\u001B[32m    275\u001B[39m     \u001B[38;5;66;03m# start = time.perf_counter()\u001B[39;00m\n\u001B[32m    276\u001B[39m     \u001B[38;5;28mself\u001B[39m.progress_bar.set_description_str(\u001B[33mf\u001B[39m\u001B[33m\"\u001B[39m\u001B[33mFeature: \u001B[39m\u001B[38;5;132;01m{\u001B[39;00mf.source.name\u001B[38;5;132;01m}\u001B[39;00m\u001B[33m\"\u001B[39m)\n\u001B[32m--> \u001B[39m\u001B[32m277\u001B[39m     \u001B[38;5;28mself\u001B[39m._features[f.source.name] = \u001B[43msa\u001B[49m\u001B[43m.\u001B[49m\u001B[43manalyze_feature_to_dictionary\u001B[49m\u001B[43m(\u001B[49m\u001B[43mf\u001B[49m\u001B[43m)\u001B[49m\n\u001B[32m    278\u001B[39m     \u001B[38;5;28mself\u001B[39m.progress_bar.update(\u001B[32m1\u001B[39m)\n\u001B[32m    279\u001B[39m     \u001B[38;5;66;03m# print(f\"DONE FEATURE------> {f.source.name}\"\u001B[39;00m\n\u001B[32m    280\u001B[39m     \u001B[38;5;66;03m#       f\" {(time.perf_counter() - start):.2f}   {self._features[f.source.name]['type']}\")\u001B[39;00m\n\u001B[32m    281\u001B[39m \u001B[38;5;66;03m# self.progress_bar.set_description_str('[FEATURES DONE]')\u001B[39;00m\n\u001B[32m    282\u001B[39m \u001B[38;5;66;03m# self.progress_bar.close()\u001B[39;00m\n\u001B[32m    283\u001B[39m \n\u001B[32m    284\u001B[39m \u001B[38;5;66;03m# Wrap up summary\u001B[39;00m\n",
      "\u001B[36mFile \u001B[39m\u001B[32m~\\PycharmProjects\\capstone\\.venv\\Lib\\site-packages\\sweetviz\\series_analyzer.py:142\u001B[39m, in \u001B[36manalyze_feature_to_dictionary\u001B[39m\u001B[34m(to_process)\u001B[39m\n\u001B[32m    140\u001B[39m \u001B[38;5;66;03m# Perform full analysis on source/compare/target\u001B[39;00m\n\u001B[32m    141\u001B[39m \u001B[38;5;28;01mif\u001B[39;00m returned_feature_dict[\u001B[33m\"\u001B[39m\u001B[33mtype\u001B[39m\u001B[33m\"\u001B[39m] == FeatureType.TYPE_NUM:\n\u001B[32m--> \u001B[39m\u001B[32m142\u001B[39m     \u001B[43msweetviz\u001B[49m\u001B[43m.\u001B[49m\u001B[43mseries_analyzer_numeric\u001B[49m\u001B[43m.\u001B[49m\u001B[43manalyze\u001B[49m\u001B[43m(\u001B[49m\u001B[43mto_process\u001B[49m\u001B[43m,\u001B[49m\u001B[43m \u001B[49m\u001B[43mreturned_feature_dict\u001B[49m\u001B[43m)\u001B[49m\n\u001B[32m    143\u001B[39m \u001B[38;5;28;01melif\u001B[39;00m returned_feature_dict[\u001B[33m\"\u001B[39m\u001B[33mtype\u001B[39m\u001B[33m\"\u001B[39m] == FeatureType.TYPE_CAT:\n\u001B[32m    144\u001B[39m     sweetviz.series_analyzer_cat.analyze(to_process, returned_feature_dict)\n",
      "\u001B[36mFile \u001B[39m\u001B[32m~\\PycharmProjects\\capstone\\.venv\\Lib\\site-packages\\sweetviz\\series_analyzer_numeric.py:102\u001B[39m, in \u001B[36manalyze\u001B[39m\u001B[34m(to_process, feature_dict)\u001B[39m\n\u001B[32m     98\u001B[39m     do_stats_numeric(to_process.compare, compare_dict)\n\u001B[32m    100\u001B[39m do_detail_numeric(to_process.source, to_process.source_counts, to_process.compare_counts, feature_dict)\n\u001B[32m--> \u001B[39m\u001B[32m102\u001B[39m feature_dict[\u001B[33m\"\u001B[39m\u001B[33mminigraph\u001B[39m\u001B[33m\"\u001B[39m] = \u001B[43mGraphNumeric\u001B[49m\u001B[43m(\u001B[49m\u001B[33;43m\"\u001B[39;49m\u001B[33;43mmini\u001B[39;49m\u001B[33;43m\"\u001B[39;49m\u001B[43m,\u001B[49m\u001B[43m \u001B[49m\u001B[43mto_process\u001B[49m\u001B[43m)\u001B[49m\n\u001B[32m    103\u001B[39m feature_dict[\u001B[33m\"\u001B[39m\u001B[33mdetail_graphs\u001B[39m\u001B[33m\"\u001B[39m] = \u001B[38;5;28mlist\u001B[39m()\n\u001B[32m    104\u001B[39m \u001B[38;5;28;01mfor\u001B[39;00m num_bins \u001B[38;5;129;01min\u001B[39;00m [\u001B[32m0\u001B[39m, \u001B[32m5\u001B[39m, \u001B[32m15\u001B[39m, \u001B[32m30\u001B[39m]:\n",
      "\u001B[36mFile \u001B[39m\u001B[32m~\\PycharmProjects\\capstone\\.venv\\Lib\\site-packages\\sweetviz\\graph_numeric.py:71\u001B[39m, in \u001B[36mGraphNumeric.__init__\u001B[39m\u001B[34m(self, which_graph, to_process)\u001B[39m\n\u001B[32m     67\u001B[39m     normalizing_weights = norm_source\n\u001B[32m     69\u001B[39m gap_percent = config[\u001B[33m\"\u001B[39m\u001B[33mGraphs\u001B[39m\u001B[33m\"\u001B[39m].getfloat(\u001B[33m\"\u001B[39m\u001B[33msummary_graph_categorical_gap\u001B[39m\u001B[33m\"\u001B[39m)\n\u001B[32m---> \u001B[39m\u001B[32m71\u001B[39m warnings.filterwarnings(\u001B[33m'\u001B[39m\u001B[33mignore\u001B[39m\u001B[33m'\u001B[39m, category=\u001B[43mnp\u001B[49m\u001B[43m.\u001B[49m\u001B[43mVisibleDeprecationWarning\u001B[49m)\n\u001B[32m     72\u001B[39m \u001B[38;5;28mself\u001B[39m.hist_specs = axs.hist(plot_data, weights = normalizing_weights, bins=\u001B[38;5;28mself\u001B[39m.num_bins, \\\n\u001B[32m     73\u001B[39m                            rwidth = (\u001B[32m100.0\u001B[39m - gap_percent) / \u001B[32m100.0\u001B[39m)\n\u001B[32m     74\u001B[39m warnings.filterwarnings(\u001B[33m'\u001B[39m\u001B[33monce\u001B[39m\u001B[33m'\u001B[39m, category=np.VisibleDeprecationWarning)\n",
      "\u001B[36mFile \u001B[39m\u001B[32m~\\PycharmProjects\\capstone\\.venv\\Lib\\site-packages\\numpy\\__init__.py:808\u001B[39m, in \u001B[36m__getattr__\u001B[39m\u001B[34m(attr)\u001B[39m\n\u001B[32m      0\u001B[39m <Error retrieving source code with stack_data see ipython/ipython#13598>\n",
      "\u001B[31mAttributeError\u001B[39m: module 'numpy' has no attribute 'VisibleDeprecationWarning'"
     ]
    },
    {
     "data": {
      "text/plain": [
       "<Figure size 290x120 with 1 Axes>"
      ],
      "image/png": "[encoded data removed]"
     },
     "metadata": {},
     "output_type": "display_data"
    }
   ],
   "execution_count": 21
  },
  {
   "metadata": {},
   "cell_type": "markdown",
   "source": [
    "The latest versions of ydata-profiling (like v4.15.1+) require numba, which in turn requires numpy<2.0.0.\n",
    "i switched to lightweight alternative sweetviz but that also had same error -  because you're using a newer version of NumPy (≥2.0), but Sweetviz internally tries to access an attribute that no longer exists in recent versions\n"
   ],
   "id": "62088988800c4d78"
  },
  {
   "metadata": {},
   "cell_type": "markdown",
   "source": "",
   "id": "df8a1be934129252"
  }
 ],
 "metadata": {
  "kernelspec": {
   "display_name": "Python 3",
   "language": "python",
   "name": "python3"
  },
  "language_info": {
   "codemirror_mode": {
    "name": "ipython",
    "version": 2
   },
   "file_extension": ".py",
   "mimetype": "text/x-python",
   "name": "python",
   "nbconvert_exporter": "python",
   "pygments_lexer": "ipython2",
   "version": "2.7.6"
  }
 },
 "nbformat": 4,
 "nbformat_minor": 5
}
