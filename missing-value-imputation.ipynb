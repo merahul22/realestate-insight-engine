{
 "cells": [
  {
   "cell_type": "code",
   "id": "initial_id",
   "metadata": {
    "collapsed": true,
    "ExecuteTime": {
     "end_time": "2025-06-26T14:06:17.053186Z",
     "start_time": "2025-06-26T14:06:17.035809Z"
    }
   },
   "source": [
    "import pandas as pd\n",
    "import numpy as np\n",
    "import matplotlib.pyplot as plt\n",
    "import seaborn as sns"
   ],
   "outputs": [],
   "execution_count": 1
  },
  {
   "metadata": {
    "ExecuteTime": {
     "end_time": "2025-06-26T14:07:19.104006Z",
     "start_time": "2025-06-26T14:07:19.045871Z"
    }
   },
   "cell_type": "code",
   "source": "df=pd.read_csv('gurgaon_properties_cleaned_v2.csv')",
   "id": "d64e6d1cb8726d96",
   "outputs": [],
   "execution_count": 2
  },
  {
   "metadata": {
    "ExecuteTime": {
     "end_time": "2025-06-26T14:07:30.404393Z",
     "start_time": "2025-06-26T14:07:30.351309Z"
    }
   },
   "cell_type": "code",
   "source": "df.head()",
   "id": "5d85a35b66d23f4",
   "outputs": [
    {
     "data": {
      "text/plain": [
       "  property_type              society      sector  price  price_per_sqft  \\\n",
       "0          flat  experion windchants  sector 112   3.65         11428.0   \n",
       "1          flat       vatika gurgaon   sector 83   1.25          7812.0   \n",
       "2          flat          green court   sector 90   0.47          6811.0   \n",
       "3          flat        orchid petals   sector 49   1.90         10526.0   \n",
       "4          flat       bestech altura   sector 79   2.69         12500.0   \n",
       "\n",
       "     area                                       areaWithType  bedRoom  \\\n",
       "0  3194.0                 Built Up area: 2800 (260.13 sq.m.)      3.0   \n",
       "1  1600.0  Super Built up area 2390(222.04 sq.m.)Carpet a...      4.0   \n",
       "2   690.0                      Carpet area: 690 (64.1 sq.m.)      2.0   \n",
       "3  1805.0  Super Built up area 1805(167.69 sq.m.)Built Up...      3.0   \n",
       "4  2152.0             Super Built up area 2150(199.74 sq.m.)      3.0   \n",
       "\n",
       "   bathroom balcony  ...  built_up_area carpet_area plot_area  study room  \\\n",
       "0       5.0       2  ...         2800.0         NaN       NaN           0   \n",
       "1       4.0       3  ...            NaN      1600.0       NaN           0   \n",
       "2       2.0       1  ...            NaN       690.0       NaN           0   \n",
       "3       3.0       3  ...         1600.0      1400.0       NaN           0   \n",
       "4       4.0      3+  ...            NaN         NaN       NaN           0   \n",
       "\n",
       "   servant room  store room  pooja room  others  furnishing_type  luxury_score  \n",
       "0             1           0           0       0                0            72  \n",
       "1             1           0           0       0                0           103  \n",
       "2             0           0           0       0                0            49  \n",
       "3             0           0           0       1                2            49  \n",
       "4             1           0           0       0                0            49  \n",
       "\n",
       "[5 rows x 24 columns]"
      ],
      "text/html": [
       "<div>\n",
       "<style scoped>\n",
       "    .dataframe tbody tr th:only-of-type {\n",
       "        vertical-align: middle;\n",
       "    }\n",
       "\n",
       "    .dataframe tbody tr th {\n",
       "        vertical-align: top;\n",
       "    }\n",
       "\n",
       "    .dataframe thead th {\n",
       "        text-align: right;\n",
       "    }\n",
       "</style>\n",
       "<table border=\"1\" class=\"dataframe\">\n",
       "  <thead>\n",
       "    <tr style=\"text-align: right;\">\n",
       "      <th></th>\n",
       "      <th>property_type</th>\n",
       "      <th>society</th>\n",
       "      <th>sector</th>\n",
       "      <th>price</th>\n",
       "      <th>price_per_sqft</th>\n",
       "      <th>area</th>\n",
       "      <th>areaWithType</th>\n",
       "      <th>bedRoom</th>\n",
       "      <th>bathroom</th>\n",
       "      <th>balcony</th>\n",
       "      <th>...</th>\n",
       "      <th>built_up_area</th>\n",
       "      <th>carpet_area</th>\n",
       "      <th>plot_area</th>\n",
       "      <th>study room</th>\n",
       "      <th>servant room</th>\n",
       "      <th>store room</th>\n",
       "      <th>pooja room</th>\n",
       "      <th>others</th>\n",
       "      <th>furnishing_type</th>\n",
       "      <th>luxury_score</th>\n",
       "    </tr>\n",
       "  </thead>\n",
       "  <tbody>\n",
       "    <tr>\n",
       "      <th>0</th>\n",
       "      <td>flat</td>\n",
       "      <td>experion windchants</td>\n",
       "      <td>sector 112</td>\n",
       "      <td>3.65</td>\n",
       "      <td>11428.0</td>\n",
       "      <td>3194.0</td>\n",
       "      <td>Built Up area: 2800 (260.13 sq.m.)</td>\n",
       "      <td>3.0</td>\n",
       "      <td>5.0</td>\n",
       "      <td>2</td>\n",
       "      <td>...</td>\n",
       "      <td>2800.0</td>\n",
       "      <td>NaN</td>\n",
       "      <td>NaN</td>\n",
       "      <td>0</td>\n",
       "      <td>1</td>\n",
       "      <td>0</td>\n",
       "      <td>0</td>\n",
       "      <td>0</td>\n",
       "      <td>0</td>\n",
       "      <td>72</td>\n",
       "    </tr>\n",
       "    <tr>\n",
       "      <th>1</th>\n",
       "      <td>flat</td>\n",
       "      <td>vatika gurgaon</td>\n",
       "      <td>sector 83</td>\n",
       "      <td>1.25</td>\n",
       "      <td>7812.0</td>\n",
       "      <td>1600.0</td>\n",
       "      <td>Super Built up area 2390(222.04 sq.m.)Carpet a...</td>\n",
       "      <td>4.0</td>\n",
       "      <td>4.0</td>\n",
       "      <td>3</td>\n",
       "      <td>...</td>\n",
       "      <td>NaN</td>\n",
       "      <td>1600.0</td>\n",
       "      <td>NaN</td>\n",
       "      <td>0</td>\n",
       "      <td>1</td>\n",
       "      <td>0</td>\n",
       "      <td>0</td>\n",
       "      <td>0</td>\n",
       "      <td>0</td>\n",
       "      <td>103</td>\n",
       "    </tr>\n",
       "    <tr>\n",
       "      <th>2</th>\n",
       "      <td>flat</td>\n",
       "      <td>green court</td>\n",
       "      <td>sector 90</td>\n",
       "      <td>0.47</td>\n",
       "      <td>6811.0</td>\n",
       "      <td>690.0</td>\n",
       "      <td>Carpet area: 690 (64.1 sq.m.)</td>\n",
       "      <td>2.0</td>\n",
       "      <td>2.0</td>\n",
       "      <td>1</td>\n",
       "      <td>...</td>\n",
       "      <td>NaN</td>\n",
       "      <td>690.0</td>\n",
       "      <td>NaN</td>\n",
       "      <td>0</td>\n",
       "      <td>0</td>\n",
       "      <td>0</td>\n",
       "      <td>0</td>\n",
       "      <td>0</td>\n",
       "      <td>0</td>\n",
       "      <td>49</td>\n",
       "    </tr>\n",
       "    <tr>\n",
       "      <th>3</th>\n",
       "      <td>flat</td>\n",
       "      <td>orchid petals</td>\n",
       "      <td>sector 49</td>\n",
       "      <td>1.90</td>\n",
       "      <td>10526.0</td>\n",
       "      <td>1805.0</td>\n",
       "      <td>Super Built up area 1805(167.69 sq.m.)Built Up...</td>\n",
       "      <td>3.0</td>\n",
       "      <td>3.0</td>\n",
       "      <td>3</td>\n",
       "      <td>...</td>\n",
       "      <td>1600.0</td>\n",
       "      <td>1400.0</td>\n",
       "      <td>NaN</td>\n",
       "      <td>0</td>\n",
       "      <td>0</td>\n",
       "      <td>0</td>\n",
       "      <td>0</td>\n",
       "      <td>1</td>\n",
       "      <td>2</td>\n",
       "      <td>49</td>\n",
       "    </tr>\n",
       "    <tr>\n",
       "      <th>4</th>\n",
       "      <td>flat</td>\n",
       "      <td>bestech altura</td>\n",
       "      <td>sector 79</td>\n",
       "      <td>2.69</td>\n",
       "      <td>12500.0</td>\n",
       "      <td>2152.0</td>\n",
       "      <td>Super Built up area 2150(199.74 sq.m.)</td>\n",
       "      <td>3.0</td>\n",
       "      <td>4.0</td>\n",
       "      <td>3+</td>\n",
       "      <td>...</td>\n",
       "      <td>NaN</td>\n",
       "      <td>NaN</td>\n",
       "      <td>NaN</td>\n",
       "      <td>0</td>\n",
       "      <td>1</td>\n",
       "      <td>0</td>\n",
       "      <td>0</td>\n",
       "      <td>0</td>\n",
       "      <td>0</td>\n",
       "      <td>49</td>\n",
       "    </tr>\n",
       "  </tbody>\n",
       "</table>\n",
       "<p>5 rows × 24 columns</p>\n",
       "</div>"
      ]
     },
     "execution_count": 3,
     "metadata": {},
     "output_type": "execute_result"
    }
   ],
   "execution_count": 3
  },
  {
   "metadata": {
    "ExecuteTime": {
     "end_time": "2025-06-26T14:08:00.317457Z",
     "start_time": "2025-06-26T14:08:00.306435Z"
    }
   },
   "cell_type": "code",
   "source": "df.isnull().sum()",
   "id": "7920a046cbe35ded",
   "outputs": [
    {
     "data": {
      "text/plain": [
       "property_type             0\n",
       "society                   1\n",
       "sector                    0\n",
       "price                    65\n",
       "price_per_sqft           27\n",
       "area                     65\n",
       "areaWithType             47\n",
       "bedRoom                  47\n",
       "bathroom                 47\n",
       "balcony                  47\n",
       "floorNum                 66\n",
       "facing                 1152\n",
       "agePossession             0\n",
       "super_built_up_area    1935\n",
       "built_up_area          2117\n",
       "carpet_area            1906\n",
       "plot_area              3168\n",
       "study room                0\n",
       "servant room              0\n",
       "store room                0\n",
       "pooja room                0\n",
       "others                    0\n",
       "furnishing_type           0\n",
       "luxury_score              0\n",
       "dtype: int64"
      ]
     },
     "execution_count": 4,
     "metadata": {},
     "output_type": "execute_result"
    }
   ],
   "execution_count": 4
  },
  {
   "metadata": {
    "ExecuteTime": {
     "end_time": "2025-06-26T14:09:56.490338Z",
     "start_time": "2025-06-26T14:09:55.132452Z"
    }
   },
   "cell_type": "code",
   "source": "sns.scatterplot(x=df['built_up_area'], y=df['super_built_up_area'])\n",
   "id": "e79f68170ed04453",
   "outputs": [
    {
     "data": {
      "text/plain": [
       "<Axes: xlabel='built_up_area', ylabel='super_built_up_area'>"
      ]
     },
     "execution_count": 6,
     "metadata": {},
     "output_type": "execute_result"
    },
    {
     "data": {
      "text/plain": [
       "<Figure size 640x480 with 1 Axes>"
      ],
      "image/png": "[encoded data removed]"
     },
     "metadata": {},
     "output_type": "display_data"
    }
   ],
   "execution_count": 6
  },
  {
   "metadata": {
    "ExecuteTime": {
     "end_time": "2025-06-26T14:10:19.953416Z",
     "start_time": "2025-06-26T14:10:19.827762Z"
    }
   },
   "cell_type": "code",
   "source": [
    "\n",
    "sns.scatterplot(x=df['built_up_area'],y=df['carpet_area'])"
   ],
   "id": "edec2910e84443bc",
   "outputs": [
    {
     "data": {
      "text/plain": [
       "<Axes: xlabel='built_up_area', ylabel='carpet_area'>"
      ]
     },
     "execution_count": 8,
     "metadata": {},
     "output_type": "execute_result"
    },
    {
     "data": {
      "text/plain": [
       "<Figure size 640x480 with 1 Axes>"
      ],
      "image/png": "[encoded data removed]"
     },
     "metadata": {},
     "output_type": "display_data"
    }
   ],
   "execution_count": 8
  },
  {
   "metadata": {
    "ExecuteTime": {
     "end_time": "2025-06-26T14:10:46.765128Z",
     "start_time": "2025-06-26T14:10:46.755113Z"
    }
   },
   "cell_type": "code",
   "source": "((df['super_built_up_area'].isnull()) & (df['built_up_area'].isnull()) & (df['carpet_area'].isnull())).shape",
   "id": "a3fbbf50542c17d0",
   "outputs": [
    {
     "data": {
      "text/plain": [
       "(3850,)"
      ]
     },
     "execution_count": 10,
     "metadata": {},
     "output_type": "execute_result"
    }
   ],
   "execution_count": 10
  },
  {
   "metadata": {
    "ExecuteTime": {
     "end_time": "2025-06-26T14:11:38.129726Z",
     "start_time": "2025-06-26T14:11:38.120723Z"
    }
   },
   "cell_type": "code",
   "source": [
    "all_present_df = df[~((df['super_built_up_area'].isnull()) | (df['built_up_area'].isnull()) | (df['carpet_area'].isnull()))]\n",
    "all_present_df.shape\n"
   ],
   "id": "d1325fd51ac075e",
   "outputs": [
    {
     "data": {
      "text/plain": [
       "(534, 24)"
      ]
     },
     "execution_count": 14,
     "metadata": {},
     "output_type": "execute_result"
    }
   ],
   "execution_count": 14
  },
  {
   "metadata": {
    "ExecuteTime": {
     "end_time": "2025-06-26T14:12:22.414830Z",
     "start_time": "2025-06-26T14:12:22.406799Z"
    }
   },
   "cell_type": "code",
   "source": [
    "super_to_built_up_ratio = (all_present_df['super_built_up_area']/all_present_df['built_up_area']).median()\n",
    "super_to_built_up_ratio\n"
   ],
   "id": "fae85ff7cf833e77",
   "outputs": [
    {
     "data": {
      "text/plain": [
       "1.1048701298701298"
      ]
     },
     "execution_count": 17,
     "metadata": {},
     "output_type": "execute_result"
    }
   ],
   "execution_count": 17
  },
  {
   "metadata": {
    "ExecuteTime": {
     "end_time": "2025-06-26T14:12:45.221822Z",
     "start_time": "2025-06-26T14:12:45.213904Z"
    }
   },
   "cell_type": "code",
   "source": [
    "carpet_to_built_up_ratio = (all_present_df['carpet_area']/all_present_df['built_up_area']).median()\n",
    "carpet_to_built_up_ratio"
   ],
   "id": "14262184f35514b2",
   "outputs": [
    {
     "data": {
      "text/plain": [
       "0.900140056022409"
      ]
     },
     "execution_count": 18,
     "metadata": {},
     "output_type": "execute_result"
    }
   ],
   "execution_count": 18
  },
  {
   "metadata": {
    "ExecuteTime": {
     "end_time": "2025-06-26T14:18:30.224872Z",
     "start_time": "2025-06-26T14:18:30.130418Z"
    }
   },
   "cell_type": "code",
   "source": "sbc_df = df[~(df['super_built_up_area'].isnull()) & (df['built_up_area'].isnull()) & ~(df['carpet_area'].isnull())]\n",
   "id": "5444673ec59e3504",
   "outputs": [],
   "execution_count": 19
  },
  {
   "metadata": {
    "ExecuteTime": {
     "end_time": "2025-06-26T14:18:48.735787Z",
     "start_time": "2025-06-26T14:18:48.723358Z"
    }
   },
   "cell_type": "code",
   "source": "sbc_df.head()",
   "id": "58eb16c2a6a3f800",
   "outputs": [
    {
     "data": {
      "text/plain": [
       "(428, 24)"
      ]
     },
     "execution_count": 21,
     "metadata": {},
     "output_type": "execute_result"
    }
   ],
   "execution_count": 21
  },
  {
   "metadata": {
    "ExecuteTime": {
     "end_time": "2025-06-26T14:20:51.106801Z",
     "start_time": "2025-06-26T14:20:51.088167Z"
    }
   },
   "cell_type": "code",
   "source": [
    "sbc_df.loc[:, 'built_up_area'] = sbc_df['built_up_area'].fillna(\n",
    "    round(((sbc_df['super_built_up_area'] / 1.105) + (sbc_df['carpet_area'] / 0.9)) / 2)\n",
    ")\n"
   ],
   "id": "bee24514ecc4b53c",
   "outputs": [],
   "execution_count": 24
  },
  {
   "metadata": {
    "ExecuteTime": {
     "end_time": "2025-06-26T14:21:02.595430Z",
     "start_time": "2025-06-26T14:21:02.588432Z"
    }
   },
   "cell_type": "code",
   "source": "sbc_df.shape",
   "id": "687fbec098fdbbe4",
   "outputs": [
    {
     "data": {
      "text/plain": [
       "(428, 24)"
      ]
     },
     "execution_count": 25,
     "metadata": {},
     "output_type": "execute_result"
    }
   ],
   "execution_count": 25
  },
  {
   "metadata": {
    "ExecuteTime": {
     "end_time": "2025-06-26T14:22:10.968902Z",
     "start_time": "2025-06-26T14:22:10.961899Z"
    }
   },
   "cell_type": "code",
   "source": "sbc_df['built_up_area'].isnull()",
   "id": "79847160a664abc1",
   "outputs": [
    {
     "data": {
      "text/plain": [
       "1       False\n",
       "9       False\n",
       "26      False\n",
       "50      False\n",
       "63      False\n",
       "        ...  \n",
       "3801    False\n",
       "3813    False\n",
       "3822    False\n",
       "3823    False\n",
       "3844    False\n",
       "Name: built_up_area, Length: 428, dtype: bool"
      ]
     },
     "execution_count": 31,
     "metadata": {},
     "output_type": "execute_result"
    }
   ],
   "execution_count": 31
  },
  {
   "metadata": {
    "ExecuteTime": {
     "end_time": "2025-06-26T14:23:05.126012Z",
     "start_time": "2025-06-26T14:23:05.085185Z"
    }
   },
   "cell_type": "code",
   "source": "df.update(sbc_df)",
   "id": "10acb30ebfbb0633",
   "outputs": [],
   "execution_count": 32
  },
  {
   "metadata": {
    "ExecuteTime": {
     "end_time": "2025-06-26T14:23:14.561558Z",
     "start_time": "2025-06-26T14:23:14.548167Z"
    }
   },
   "cell_type": "code",
   "source": "df.isnull().sum()",
   "id": "730bbdee26cb66da",
   "outputs": [
    {
     "data": {
      "text/plain": [
       "property_type             0\n",
       "society                   1\n",
       "sector                    0\n",
       "price                    65\n",
       "price_per_sqft           27\n",
       "area                     65\n",
       "areaWithType             47\n",
       "bedRoom                  47\n",
       "bathroom                 47\n",
       "balcony                  47\n",
       "floorNum                 66\n",
       "facing                 1152\n",
       "agePossession             0\n",
       "super_built_up_area    1935\n",
       "built_up_area          1689\n",
       "carpet_area            1906\n",
       "plot_area              3168\n",
       "study room                0\n",
       "servant room              0\n",
       "store room                0\n",
       "pooja room                0\n",
       "others                    0\n",
       "furnishing_type           0\n",
       "luxury_score              0\n",
       "dtype: int64"
      ]
     },
     "execution_count": 33,
     "metadata": {},
     "output_type": "execute_result"
    }
   ],
   "execution_count": 33
  },
  {
   "metadata": {
    "ExecuteTime": {
     "end_time": "2025-06-26T14:24:29.120307Z",
     "start_time": "2025-06-26T14:24:29.108311Z"
    }
   },
   "cell_type": "code",
   "source": "sb_df = df[~(df['super_built_up_area'].isnull()) & (df['built_up_area'].isnull()) & (df['carpet_area'].isnull())]",
   "id": "9000784fcdb2d01e",
   "outputs": [],
   "execution_count": 34
  },
  {
   "metadata": {
    "ExecuteTime": {
     "end_time": "2025-06-26T14:24:42.384973Z",
     "start_time": "2025-06-26T14:24:42.368984Z"
    }
   },
   "cell_type": "code",
   "source": "sb_df.head()",
   "id": "a63b215d71e0ea34",
   "outputs": [
    {
     "data": {
      "text/plain": [
       "   property_type               society      sector  price  price_per_sqft  \\\n",
       "4           flat        bestech altura   sector 79   2.69         12500.0   \n",
       "17          flat  emaar gurgaon greens  sector 102   1.40          8484.0   \n",
       "20          flat    godrej nature plus   sector 33   1.30          8349.0   \n",
       "21          flat            m3m merlin   sector 67   3.50         14843.0   \n",
       "25          flat     dlf regal gardens   sector 90   1.25          7167.0   \n",
       "\n",
       "      area                            areaWithType  bedRoom  bathroom balcony  \\\n",
       "4   2152.0  Super Built up area 2150(199.74 sq.m.)      3.0       4.0      3+   \n",
       "17  1650.0  Super Built up area 1650(153.29 sq.m.)      3.0       3.0       3   \n",
       "20  1557.0  Super Built up area 1557(144.65 sq.m.)      3.0       2.0      3+   \n",
       "21  2358.0  Super Built up area 2358(219.07 sq.m.)      3.0       4.0      3+   \n",
       "25  1744.0  Super Built up area 1744(162.02 sq.m.)      3.0       3.0       2   \n",
       "\n",
       "    ...  built_up_area carpet_area plot_area  study room  servant room  \\\n",
       "4   ...            NaN         NaN       NaN           0             1   \n",
       "17  ...            NaN         NaN       NaN           0             1   \n",
       "20  ...            NaN         NaN       NaN           0             0   \n",
       "21  ...            NaN         NaN       NaN           0             1   \n",
       "25  ...            NaN         NaN       NaN           0             0   \n",
       "\n",
       "    store room  pooja room  others  furnishing_type  luxury_score  \n",
       "4            0           0       0                0            49  \n",
       "17           0           0       0                2            83  \n",
       "20           0           0       0                0            38  \n",
       "21           0           0       0                2           158  \n",
       "25           0           0       1                0            14  \n",
       "\n",
       "[5 rows x 24 columns]"
      ],
      "text/html": [
       "<div>\n",
       "<style scoped>\n",
       "    .dataframe tbody tr th:only-of-type {\n",
       "        vertical-align: middle;\n",
       "    }\n",
       "\n",
       "    .dataframe tbody tr th {\n",
       "        vertical-align: top;\n",
       "    }\n",
       "\n",
       "    .dataframe thead th {\n",
       "        text-align: right;\n",
       "    }\n",
       "</style>\n",
       "<table border=\"1\" class=\"dataframe\">\n",
       "  <thead>\n",
       "    <tr style=\"text-align: right;\">\n",
       "      <th></th>\n",
       "      <th>property_type</th>\n",
       "      <th>society</th>\n",
       "      <th>sector</th>\n",
       "      <th>price</th>\n",
       "      <th>price_per_sqft</th>\n",
       "      <th>area</th>\n",
       "      <th>areaWithType</th>\n",
       "      <th>bedRoom</th>\n",
       "      <th>bathroom</th>\n",
       "      <th>balcony</th>\n",
       "      <th>...</th>\n",
       "      <th>built_up_area</th>\n",
       "      <th>carpet_area</th>\n",
       "      <th>plot_area</th>\n",
       "      <th>study room</th>\n",
       "      <th>servant room</th>\n",
       "      <th>store room</th>\n",
       "      <th>pooja room</th>\n",
       "      <th>others</th>\n",
       "      <th>furnishing_type</th>\n",
       "      <th>luxury_score</th>\n",
       "    </tr>\n",
       "  </thead>\n",
       "  <tbody>\n",
       "    <tr>\n",
       "      <th>4</th>\n",
       "      <td>flat</td>\n",
       "      <td>bestech altura</td>\n",
       "      <td>sector 79</td>\n",
       "      <td>2.69</td>\n",
       "      <td>12500.0</td>\n",
       "      <td>2152.0</td>\n",
       "      <td>Super Built up area 2150(199.74 sq.m.)</td>\n",
       "      <td>3.0</td>\n",
       "      <td>4.0</td>\n",
       "      <td>3+</td>\n",
       "      <td>...</td>\n",
       "      <td>NaN</td>\n",
       "      <td>NaN</td>\n",
       "      <td>NaN</td>\n",
       "      <td>0</td>\n",
       "      <td>1</td>\n",
       "      <td>0</td>\n",
       "      <td>0</td>\n",
       "      <td>0</td>\n",
       "      <td>0</td>\n",
       "      <td>49</td>\n",
       "    </tr>\n",
       "    <tr>\n",
       "      <th>17</th>\n",
       "      <td>flat</td>\n",
       "      <td>emaar gurgaon greens</td>\n",
       "      <td>sector 102</td>\n",
       "      <td>1.40</td>\n",
       "      <td>8484.0</td>\n",
       "      <td>1650.0</td>\n",
       "      <td>Super Built up area 1650(153.29 sq.m.)</td>\n",
       "      <td>3.0</td>\n",
       "      <td>3.0</td>\n",
       "      <td>3</td>\n",
       "      <td>...</td>\n",
       "      <td>NaN</td>\n",
       "      <td>NaN</td>\n",
       "      <td>NaN</td>\n",
       "      <td>0</td>\n",
       "      <td>1</td>\n",
       "      <td>0</td>\n",
       "      <td>0</td>\n",
       "      <td>0</td>\n",
       "      <td>2</td>\n",
       "      <td>83</td>\n",
       "    </tr>\n",
       "    <tr>\n",
       "      <th>20</th>\n",
       "      <td>flat</td>\n",
       "      <td>godrej nature plus</td>\n",
       "      <td>sector 33</td>\n",
       "      <td>1.30</td>\n",
       "      <td>8349.0</td>\n",
       "      <td>1557.0</td>\n",
       "      <td>Super Built up area 1557(144.65 sq.m.)</td>\n",
       "      <td>3.0</td>\n",
       "      <td>2.0</td>\n",
       "      <td>3+</td>\n",
       "      <td>...</td>\n",
       "      <td>NaN</td>\n",
       "      <td>NaN</td>\n",
       "      <td>NaN</td>\n",
       "      <td>0</td>\n",
       "      <td>0</td>\n",
       "      <td>0</td>\n",
       "      <td>0</td>\n",
       "      <td>0</td>\n",
       "      <td>0</td>\n",
       "      <td>38</td>\n",
       "    </tr>\n",
       "    <tr>\n",
       "      <th>21</th>\n",
       "      <td>flat</td>\n",
       "      <td>m3m merlin</td>\n",
       "      <td>sector 67</td>\n",
       "      <td>3.50</td>\n",
       "      <td>14843.0</td>\n",
       "      <td>2358.0</td>\n",
       "      <td>Super Built up area 2358(219.07 sq.m.)</td>\n",
       "      <td>3.0</td>\n",
       "      <td>4.0</td>\n",
       "      <td>3+</td>\n",
       "      <td>...</td>\n",
       "      <td>NaN</td>\n",
       "      <td>NaN</td>\n",
       "      <td>NaN</td>\n",
       "      <td>0</td>\n",
       "      <td>1</td>\n",
       "      <td>0</td>\n",
       "      <td>0</td>\n",
       "      <td>0</td>\n",
       "      <td>2</td>\n",
       "      <td>158</td>\n",
       "    </tr>\n",
       "    <tr>\n",
       "      <th>25</th>\n",
       "      <td>flat</td>\n",
       "      <td>dlf regal gardens</td>\n",
       "      <td>sector 90</td>\n",
       "      <td>1.25</td>\n",
       "      <td>7167.0</td>\n",
       "      <td>1744.0</td>\n",
       "      <td>Super Built up area 1744(162.02 sq.m.)</td>\n",
       "      <td>3.0</td>\n",
       "      <td>3.0</td>\n",
       "      <td>2</td>\n",
       "      <td>...</td>\n",
       "      <td>NaN</td>\n",
       "      <td>NaN</td>\n",
       "      <td>NaN</td>\n",
       "      <td>0</td>\n",
       "      <td>0</td>\n",
       "      <td>0</td>\n",
       "      <td>0</td>\n",
       "      <td>1</td>\n",
       "      <td>0</td>\n",
       "      <td>14</td>\n",
       "    </tr>\n",
       "  </tbody>\n",
       "</table>\n",
       "<p>5 rows × 24 columns</p>\n",
       "</div>"
      ]
     },
     "execution_count": 35,
     "metadata": {},
     "output_type": "execute_result"
    }
   ],
   "execution_count": 35
  },
  {
   "metadata": {
    "ExecuteTime": {
     "end_time": "2025-06-26T14:25:13.100859Z",
     "start_time": "2025-06-26T14:25:13.073186Z"
    }
   },
   "cell_type": "code",
   "source": "sb_df['built_up_area'].fillna(round(sb_df['super_built_up_area']/1.105),inplace=True)",
   "id": "b895181c5f6636bd",
   "outputs": [
    {
     "name": "stderr",
     "output_type": "stream",
     "text": [
      "C:\\Users\\RAHUL\\AppData\\Local\\Temp\\ipykernel_15372\\1200380189.py:1: FutureWarning: A value is trying to be set on a copy of a DataFrame or Series through chained assignment using an inplace method.\n",
      "The behavior will change in pandas 3.0. This inplace method will never work because the intermediate object on which we are setting values always behaves as a copy.\n",
      "\n",
      "For example, when doing 'df[col].method(value, inplace=True)', try using 'df.method({col: value}, inplace=True)' or df[col] = df[col].method(value) instead, to perform the operation inplace on the original object.\n",
      "\n",
      "\n",
      "  sb_df['built_up_area'].fillna(round(sb_df['super_built_up_area']/1.105),inplace=True)\n",
      "C:\\Users\\RAHUL\\AppData\\Local\\Temp\\ipykernel_15372\\1200380189.py:1: SettingWithCopyWarning: \n",
      "A value is trying to be set on a copy of a slice from a DataFrame\n",
      "\n",
      "See the caveats in the documentation: https://pandas.pydata.org/pandas-docs/stable/user_guide/indexing.html#returning-a-view-versus-a-copy\n",
      "  sb_df['built_up_area'].fillna(round(sb_df['super_built_up_area']/1.105),inplace=True)\n"
     ]
    }
   ],
   "execution_count": 36
  },
  {
   "metadata": {
    "ExecuteTime": {
     "end_time": "2025-06-26T14:25:53.313803Z",
     "start_time": "2025-06-26T14:25:53.304264Z"
    }
   },
   "cell_type": "code",
   "source": [
    "sb_df.loc[:, 'built_up_area'] = sb_df['built_up_area'].fillna(\n",
    "    round(sb_df['super_built_up_area'] / 1.105)\n",
    ")"
   ],
   "id": "3593a72206fea5b4",
   "outputs": [],
   "execution_count": 37
  },
  {
   "metadata": {
    "ExecuteTime": {
     "end_time": "2025-06-26T14:26:07.748210Z",
     "start_time": "2025-06-26T14:26:07.706237Z"
    }
   },
   "cell_type": "code",
   "source": "df.update(sb_df)",
   "id": "4065fa643e6ea768",
   "outputs": [],
   "execution_count": 38
  },
  {
   "metadata": {
    "ExecuteTime": {
     "end_time": "2025-06-26T14:26:13.509762Z",
     "start_time": "2025-06-26T14:26:13.497035Z"
    }
   },
   "cell_type": "code",
   "source": "df.isnull().sum()",
   "id": "220f75d6917965ed",
   "outputs": [
    {
     "data": {
      "text/plain": [
       "property_type             0\n",
       "society                   1\n",
       "sector                    0\n",
       "price                    65\n",
       "price_per_sqft           27\n",
       "area                     65\n",
       "areaWithType             47\n",
       "bedRoom                  47\n",
       "bathroom                 47\n",
       "balcony                  47\n",
       "floorNum                 66\n",
       "facing                 1152\n",
       "agePossession             0\n",
       "super_built_up_area    1935\n",
       "built_up_area           786\n",
       "carpet_area            1906\n",
       "plot_area              3168\n",
       "study room                0\n",
       "servant room              0\n",
       "store room                0\n",
       "pooja room                0\n",
       "others                    0\n",
       "furnishing_type           0\n",
       "luxury_score              0\n",
       "dtype: int64"
      ]
     },
     "execution_count": 39,
     "metadata": {},
     "output_type": "execute_result"
    }
   ],
   "execution_count": 39
  },
  {
   "metadata": {
    "ExecuteTime": {
     "end_time": "2025-06-26T14:26:49.859044Z",
     "start_time": "2025-06-26T14:26:49.848949Z"
    }
   },
   "cell_type": "code",
   "source": [
    "# sb null c is present built up null\n",
    "c_df = df[(df['super_built_up_area'].isnull()) & (df['built_up_area'].isnull()) & ~(df['carpet_area'].isnull())]"
   ],
   "id": "eb4e4bbb4c02820e",
   "outputs": [],
   "execution_count": 40
  },
  {
   "metadata": {
    "ExecuteTime": {
     "end_time": "2025-06-26T14:26:56.085955Z",
     "start_time": "2025-06-26T14:26:56.063683Z"
    }
   },
   "cell_type": "code",
   "source": "c_df.head()",
   "id": "10b0ed4d1c8434d0",
   "outputs": [
    {
     "data": {
      "text/plain": [
       "   property_type              society      sector  price  price_per_sqft  \\\n",
       "2           flat          green court   sector 90   0.47          6811.0   \n",
       "6           flat      emaar digihomes   sector 62   3.95         15262.0   \n",
       "7           flat        godrej summit  sector 104   0.82          9854.0   \n",
       "12          flat        dlf the grove   sector 43   6.00         25000.0   \n",
       "18          flat  adani aangan arcade  sector 88a   0.45          7194.0   \n",
       "\n",
       "      area                       areaWithType  bedRoom  bathroom balcony  ...  \\\n",
       "2    690.0      Carpet area: 690 (64.1 sq.m.)      2.0       2.0       1  ...   \n",
       "6   2588.0   Carpet area: 2588 (240.43 sq.m.)      3.0       3.0       3  ...   \n",
       "7    832.0                 Carpet area: 77.31      2.0       2.0       3  ...   \n",
       "12  2400.0   Carpet area: 2400 (222.97 sq.m.)      4.0       4.0       2  ...   \n",
       "18   626.0  Carpet area: 625.47 (58.11 sq.m.)      2.0       2.0       1  ...   \n",
       "\n",
       "    built_up_area  carpet_area plot_area  study room  servant room  \\\n",
       "2             NaN   690.000000       NaN           0             0   \n",
       "6             NaN  2588.000000       NaN           0             1   \n",
       "7             NaN    77.310000       NaN           1             0   \n",
       "12            NaN  2400.000000       NaN           0             1   \n",
       "18            NaN   625.490229       NaN           0             0   \n",
       "\n",
       "    store room  pooja room  others  furnishing_type  luxury_score  \n",
       "2            0           0       0                0            49  \n",
       "6            0           0       0                2            49  \n",
       "7            0           0       0                0           120  \n",
       "12           0           0       0                2            49  \n",
       "18           0           0       0                0            14  \n",
       "\n",
       "[5 rows x 24 columns]"
      ],
      "text/html": [
       "<div>\n",
       "<style scoped>\n",
       "    .dataframe tbody tr th:only-of-type {\n",
       "        vertical-align: middle;\n",
       "    }\n",
       "\n",
       "    .dataframe tbody tr th {\n",
       "        vertical-align: top;\n",
       "    }\n",
       "\n",
       "    .dataframe thead th {\n",
       "        text-align: right;\n",
       "    }\n",
       "</style>\n",
       "<table border=\"1\" class=\"dataframe\">\n",
       "  <thead>\n",
       "    <tr style=\"text-align: right;\">\n",
       "      <th></th>\n",
       "      <th>property_type</th>\n",
       "      <th>society</th>\n",
       "      <th>sector</th>\n",
       "      <th>price</th>\n",
       "      <th>price_per_sqft</th>\n",
       "      <th>area</th>\n",
       "      <th>areaWithType</th>\n",
       "      <th>bedRoom</th>\n",
       "      <th>bathroom</th>\n",
       "      <th>balcony</th>\n",
       "      <th>...</th>\n",
       "      <th>built_up_area</th>\n",
       "      <th>carpet_area</th>\n",
       "      <th>plot_area</th>\n",
       "      <th>study room</th>\n",
       "      <th>servant room</th>\n",
       "      <th>store room</th>\n",
       "      <th>pooja room</th>\n",
       "      <th>others</th>\n",
       "      <th>furnishing_type</th>\n",
       "      <th>luxury_score</th>\n",
       "    </tr>\n",
       "  </thead>\n",
       "  <tbody>\n",
       "    <tr>\n",
       "      <th>2</th>\n",
       "      <td>flat</td>\n",
       "      <td>green court</td>\n",
       "      <td>sector 90</td>\n",
       "      <td>0.47</td>\n",
       "      <td>6811.0</td>\n",
       "      <td>690.0</td>\n",
       "      <td>Carpet area: 690 (64.1 sq.m.)</td>\n",
       "      <td>2.0</td>\n",
       "      <td>2.0</td>\n",
       "      <td>1</td>\n",
       "      <td>...</td>\n",
       "      <td>NaN</td>\n",
       "      <td>690.000000</td>\n",
       "      <td>NaN</td>\n",
       "      <td>0</td>\n",
       "      <td>0</td>\n",
       "      <td>0</td>\n",
       "      <td>0</td>\n",
       "      <td>0</td>\n",
       "      <td>0</td>\n",
       "      <td>49</td>\n",
       "    </tr>\n",
       "    <tr>\n",
       "      <th>6</th>\n",
       "      <td>flat</td>\n",
       "      <td>emaar digihomes</td>\n",
       "      <td>sector 62</td>\n",
       "      <td>3.95</td>\n",
       "      <td>15262.0</td>\n",
       "      <td>2588.0</td>\n",
       "      <td>Carpet area: 2588 (240.43 sq.m.)</td>\n",
       "      <td>3.0</td>\n",
       "      <td>3.0</td>\n",
       "      <td>3</td>\n",
       "      <td>...</td>\n",
       "      <td>NaN</td>\n",
       "      <td>2588.000000</td>\n",
       "      <td>NaN</td>\n",
       "      <td>0</td>\n",
       "      <td>1</td>\n",
       "      <td>0</td>\n",
       "      <td>0</td>\n",
       "      <td>0</td>\n",
       "      <td>2</td>\n",
       "      <td>49</td>\n",
       "    </tr>\n",
       "    <tr>\n",
       "      <th>7</th>\n",
       "      <td>flat</td>\n",
       "      <td>godrej summit</td>\n",
       "      <td>sector 104</td>\n",
       "      <td>0.82</td>\n",
       "      <td>9854.0</td>\n",
       "      <td>832.0</td>\n",
       "      <td>Carpet area: 77.31</td>\n",
       "      <td>2.0</td>\n",
       "      <td>2.0</td>\n",
       "      <td>3</td>\n",
       "      <td>...</td>\n",
       "      <td>NaN</td>\n",
       "      <td>77.310000</td>\n",
       "      <td>NaN</td>\n",
       "      <td>1</td>\n",
       "      <td>0</td>\n",
       "      <td>0</td>\n",
       "      <td>0</td>\n",
       "      <td>0</td>\n",
       "      <td>0</td>\n",
       "      <td>120</td>\n",
       "    </tr>\n",
       "    <tr>\n",
       "      <th>12</th>\n",
       "      <td>flat</td>\n",
       "      <td>dlf the grove</td>\n",
       "      <td>sector 43</td>\n",
       "      <td>6.00</td>\n",
       "      <td>25000.0</td>\n",
       "      <td>2400.0</td>\n",
       "      <td>Carpet area: 2400 (222.97 sq.m.)</td>\n",
       "      <td>4.0</td>\n",
       "      <td>4.0</td>\n",
       "      <td>2</td>\n",
       "      <td>...</td>\n",
       "      <td>NaN</td>\n",
       "      <td>2400.000000</td>\n",
       "      <td>NaN</td>\n",
       "      <td>0</td>\n",
       "      <td>1</td>\n",
       "      <td>0</td>\n",
       "      <td>0</td>\n",
       "      <td>0</td>\n",
       "      <td>2</td>\n",
       "      <td>49</td>\n",
       "    </tr>\n",
       "    <tr>\n",
       "      <th>18</th>\n",
       "      <td>flat</td>\n",
       "      <td>adani aangan arcade</td>\n",
       "      <td>sector 88a</td>\n",
       "      <td>0.45</td>\n",
       "      <td>7194.0</td>\n",
       "      <td>626.0</td>\n",
       "      <td>Carpet area: 625.47 (58.11 sq.m.)</td>\n",
       "      <td>2.0</td>\n",
       "      <td>2.0</td>\n",
       "      <td>1</td>\n",
       "      <td>...</td>\n",
       "      <td>NaN</td>\n",
       "      <td>625.490229</td>\n",
       "      <td>NaN</td>\n",
       "      <td>0</td>\n",
       "      <td>0</td>\n",
       "      <td>0</td>\n",
       "      <td>0</td>\n",
       "      <td>0</td>\n",
       "      <td>0</td>\n",
       "      <td>14</td>\n",
       "    </tr>\n",
       "  </tbody>\n",
       "</table>\n",
       "<p>5 rows × 24 columns</p>\n",
       "</div>"
      ]
     },
     "execution_count": 41,
     "metadata": {},
     "output_type": "execute_result"
    }
   ],
   "execution_count": 41
  },
  {
   "metadata": {
    "ExecuteTime": {
     "end_time": "2025-06-26T14:28:39.249415Z",
     "start_time": "2025-06-26T14:28:39.239404Z"
    }
   },
   "cell_type": "code",
   "source": [
    "c_df.loc[:, 'built_up_area'] = c_df['built_up_area'].fillna(\n",
    "    round(c_df['carpet_area'] / 0.9)\n",
    ")\n"
   ],
   "id": "a9e0c22356e3f8de",
   "outputs": [],
   "execution_count": 42
  },
  {
   "metadata": {
    "ExecuteTime": {
     "end_time": "2025-06-26T14:28:48.781479Z",
     "start_time": "2025-06-26T14:28:48.739215Z"
    }
   },
   "cell_type": "code",
   "source": "df.update(c_df)",
   "id": "8fe84e4ef3c55358",
   "outputs": [],
   "execution_count": 43
  },
  {
   "metadata": {
    "ExecuteTime": {
     "end_time": "2025-06-26T14:28:54.458987Z",
     "start_time": "2025-06-26T14:28:54.445091Z"
    }
   },
   "cell_type": "code",
   "source": "df.isnull().sum()",
   "id": "23bfade6050c0a44",
   "outputs": [
    {
     "data": {
      "text/plain": [
       "property_type             0\n",
       "society                   1\n",
       "sector                    0\n",
       "price                    65\n",
       "price_per_sqft           27\n",
       "area                     65\n",
       "areaWithType             47\n",
       "bedRoom                  47\n",
       "bathroom                 47\n",
       "balcony                  47\n",
       "floorNum                 66\n",
       "facing                 1152\n",
       "agePossession             0\n",
       "super_built_up_area    1935\n",
       "built_up_area            47\n",
       "carpet_area            1906\n",
       "plot_area              3168\n",
       "study room                0\n",
       "servant room              0\n",
       "store room                0\n",
       "pooja room                0\n",
       "others                    0\n",
       "furnishing_type           0\n",
       "luxury_score              0\n",
       "dtype: int64"
      ]
     },
     "execution_count": 44,
     "metadata": {},
     "output_type": "execute_result"
    }
   ],
   "execution_count": 44
  },
  {
   "metadata": {
    "ExecuteTime": {
     "end_time": "2025-06-26T14:30:00.661936Z",
     "start_time": "2025-06-26T14:30:00.529750Z"
    }
   },
   "cell_type": "code",
   "source": "sns.scatterplot(y=df['built_up_area'],x=df['price'])",
   "id": "dd5bd05cd5855ef8",
   "outputs": [
    {
     "data": {
      "text/plain": [
       "<Axes: xlabel='price', ylabel='built_up_area'>"
      ]
     },
     "execution_count": 47,
     "metadata": {},
     "output_type": "execute_result"
    },
    {
     "data": {
      "text/plain": [
       "<Figure size 640x480 with 1 Axes>"
      ],
      "image/png": "[encoded data removed]"
     },
     "metadata": {},
     "output_type": "display_data"
    }
   ],
   "execution_count": 47
  },
  {
   "metadata": {
    "ExecuteTime": {
     "end_time": "2025-06-26T14:30:42.424387Z",
     "start_time": "2025-06-26T14:30:42.410Z"
    }
   },
   "cell_type": "code",
   "source": "anamoly_df = df[(df['built_up_area'] < 2000) & (df['price'] > 2.5)][['price','area','built_up_area']]",
   "id": "eacd73491b1c31d4",
   "outputs": [],
   "execution_count": 48
  },
  {
   "metadata": {
    "ExecuteTime": {
     "end_time": "2025-06-26T14:31:28.359325Z",
     "start_time": "2025-06-26T14:31:28.344983Z"
    }
   },
   "cell_type": "code",
   "source": "anamoly_df.sample(5)",
   "id": "9159ed1ad3121e2f",
   "outputs": [
    {
     "data": {
      "text/plain": [
       "      price    area  built_up_area\n",
       "23     6.00  2700.0         2700.0\n",
       "2852   5.65  5400.0         5400.0\n",
       "2836   3.50  1722.0         1722.0\n",
       "1589   4.50  1845.0         1845.0\n",
       "1579  13.50  4518.0         4518.0"
      ],
      "text/html": [
       "<div>\n",
       "<style scoped>\n",
       "    .dataframe tbody tr th:only-of-type {\n",
       "        vertical-align: middle;\n",
       "    }\n",
       "\n",
       "    .dataframe tbody tr th {\n",
       "        vertical-align: top;\n",
       "    }\n",
       "\n",
       "    .dataframe thead th {\n",
       "        text-align: right;\n",
       "    }\n",
       "</style>\n",
       "<table border=\"1\" class=\"dataframe\">\n",
       "  <thead>\n",
       "    <tr style=\"text-align: right;\">\n",
       "      <th></th>\n",
       "      <th>price</th>\n",
       "      <th>area</th>\n",
       "      <th>built_up_area</th>\n",
       "    </tr>\n",
       "  </thead>\n",
       "  <tbody>\n",
       "    <tr>\n",
       "      <th>23</th>\n",
       "      <td>6.00</td>\n",
       "      <td>2700.0</td>\n",
       "      <td>2700.0</td>\n",
       "    </tr>\n",
       "    <tr>\n",
       "      <th>2852</th>\n",
       "      <td>5.65</td>\n",
       "      <td>5400.0</td>\n",
       "      <td>5400.0</td>\n",
       "    </tr>\n",
       "    <tr>\n",
       "      <th>2836</th>\n",
       "      <td>3.50</td>\n",
       "      <td>1722.0</td>\n",
       "      <td>1722.0</td>\n",
       "    </tr>\n",
       "    <tr>\n",
       "      <th>1589</th>\n",
       "      <td>4.50</td>\n",
       "      <td>1845.0</td>\n",
       "      <td>1845.0</td>\n",
       "    </tr>\n",
       "    <tr>\n",
       "      <th>1579</th>\n",
       "      <td>13.50</td>\n",
       "      <td>4518.0</td>\n",
       "      <td>4518.0</td>\n",
       "    </tr>\n",
       "  </tbody>\n",
       "</table>\n",
       "</div>"
      ]
     },
     "execution_count": 52,
     "metadata": {},
     "output_type": "execute_result"
    }
   ],
   "execution_count": 52
  },
  {
   "metadata": {
    "ExecuteTime": {
     "end_time": "2025-06-26T14:31:21.560470Z",
     "start_time": "2025-06-26T14:31:21.552378Z"
    }
   },
   "cell_type": "code",
   "source": "anamoly_df['built_up_area'] = anamoly_df['area']",
   "id": "bcc62afa767e43b5",
   "outputs": [],
   "execution_count": 51
  },
  {
   "metadata": {
    "ExecuteTime": {
     "end_time": "2025-06-26T14:31:44.087953Z",
     "start_time": "2025-06-26T14:31:44.077783Z"
    }
   },
   "cell_type": "code",
   "source": "df.update(anamoly_df)",
   "id": "4d7dbf52e06b8489",
   "outputs": [],
   "execution_count": 53
  },
  {
   "metadata": {
    "ExecuteTime": {
     "end_time": "2025-06-26T14:31:59.931930Z",
     "start_time": "2025-06-26T14:31:59.780697Z"
    }
   },
   "cell_type": "code",
   "source": "sns.scatterplot(x=df['built_up_area'],y=df['price'])",
   "id": "88df72d92b04e7ca",
   "outputs": [
    {
     "data": {
      "text/plain": [
       "<Axes: xlabel='built_up_area', ylabel='price'>"
      ]
     },
     "execution_count": 54,
     "metadata": {},
     "output_type": "execute_result"
    },
    {
     "data": {
      "text/plain": [
       "<Figure size 640x480 with 1 Axes>"
      ],
      "image/png": "[encoded data removed]"
     },
     "metadata": {},
     "output_type": "display_data"
    }
   ],
   "execution_count": 54
  },
  {
   "metadata": {
    "ExecuteTime": {
     "end_time": "2025-06-26T14:32:53.014494Z",
     "start_time": "2025-06-26T14:32:53.004969Z"
    }
   },
   "cell_type": "code",
   "source": "df.drop(columns=['area','areaWithType','super_built_up_area','carpet_area'],inplace=True)",
   "id": "eec17c538d71f08c",
   "outputs": [],
   "execution_count": 56
  },
  {
   "metadata": {
    "ExecuteTime": {
     "end_time": "2025-06-26T14:32:59.043309Z",
     "start_time": "2025-06-26T14:32:59.036502Z"
    }
   },
   "cell_type": "code",
   "source": "df.shape",
   "id": "bdb8edc41383f468",
   "outputs": [
    {
     "data": {
      "text/plain": [
       "(3850, 20)"
      ]
     },
     "execution_count": 57,
     "metadata": {},
     "output_type": "execute_result"
    }
   ],
   "execution_count": 57
  },
  {
   "metadata": {
    "ExecuteTime": {
     "end_time": "2025-06-26T14:33:06.288273Z",
     "start_time": "2025-06-26T14:33:06.275962Z"
    }
   },
   "cell_type": "code",
   "source": "df.isnull().sum()",
   "id": "820ed91943c97348",
   "outputs": [
    {
     "data": {
      "text/plain": [
       "property_type         0\n",
       "society               1\n",
       "sector                0\n",
       "price                65\n",
       "price_per_sqft       27\n",
       "bedRoom              47\n",
       "bathroom             47\n",
       "balcony              47\n",
       "floorNum             66\n",
       "facing             1152\n",
       "agePossession         0\n",
       "built_up_area        47\n",
       "plot_area          3168\n",
       "study room            0\n",
       "servant room          0\n",
       "store room            0\n",
       "pooja room            0\n",
       "others                0\n",
       "furnishing_type       0\n",
       "luxury_score          0\n",
       "dtype: int64"
      ]
     },
     "execution_count": 58,
     "metadata": {},
     "output_type": "execute_result"
    }
   ],
   "execution_count": 58
  },
  {
   "metadata": {
    "ExecuteTime": {
     "end_time": "2025-06-26T14:34:29.790582Z",
     "start_time": "2025-06-26T14:34:29.784331Z"
    }
   },
   "cell_type": "code",
   "source": "df.drop(columns=['plot_area'],inplace=True)",
   "id": "3e47069b7b65dfdc",
   "outputs": [],
   "execution_count": 60
  },
  {
   "metadata": {
    "ExecuteTime": {
     "end_time": "2025-06-26T14:34:34.583523Z",
     "start_time": "2025-06-26T14:34:34.574522Z"
    }
   },
   "cell_type": "code",
   "source": "df.isnull().sum()",
   "id": "4af31447c11c6e3c",
   "outputs": [
    {
     "data": {
      "text/plain": [
       "property_type         0\n",
       "society               1\n",
       "sector                0\n",
       "price                65\n",
       "price_per_sqft       27\n",
       "bedRoom              47\n",
       "bathroom             47\n",
       "balcony              47\n",
       "floorNum             66\n",
       "facing             1152\n",
       "agePossession         0\n",
       "built_up_area        47\n",
       "study room            0\n",
       "servant room          0\n",
       "store room            0\n",
       "pooja room            0\n",
       "others                0\n",
       "furnishing_type       0\n",
       "luxury_score          0\n",
       "dtype: int64"
      ]
     },
     "execution_count": 61,
     "metadata": {},
     "output_type": "execute_result"
    }
   ],
   "execution_count": 61
  },
  {
   "metadata": {
    "ExecuteTime": {
     "end_time": "2025-06-26T14:35:05.945740Z",
     "start_time": "2025-06-26T14:35:05.937596Z"
    }
   },
   "cell_type": "code",
   "source": "df['floorNum'].isnull().sum()",
   "id": "8a1bc30cb897f719",
   "outputs": [
    {
     "data": {
      "text/plain": [
       "66"
      ]
     },
     "execution_count": 62,
     "metadata": {},
     "output_type": "execute_result"
    }
   ],
   "execution_count": 62
  },
  {
   "metadata": {
    "ExecuteTime": {
     "end_time": "2025-06-26T14:35:24.421905Z",
     "start_time": "2025-06-26T14:35:24.407713Z"
    }
   },
   "cell_type": "code",
   "source": "df[df['property_type'] == 'house']['floorNum'].median()",
   "id": "dcd79046562a0a95",
   "outputs": [
    {
     "data": {
      "text/plain": [
       "3.0"
      ]
     },
     "execution_count": 63,
     "metadata": {},
     "output_type": "execute_result"
    }
   ],
   "execution_count": 63
  },
  {
   "metadata": {
    "ExecuteTime": {
     "end_time": "2025-06-26T14:35:38.311515Z",
     "start_time": "2025-06-26T14:35:38.304002Z"
    }
   },
   "cell_type": "code",
   "source": "df['floorNum'].fillna(2.0,inplace=True)",
   "id": "f5c162574307fcfd",
   "outputs": [
    {
     "name": "stderr",
     "output_type": "stream",
     "text": [
      "C:\\Users\\RAHUL\\AppData\\Local\\Temp\\ipykernel_15372\\2945666234.py:1: FutureWarning: A value is trying to be set on a copy of a DataFrame or Series through chained assignment using an inplace method.\n",
      "The behavior will change in pandas 3.0. This inplace method will never work because the intermediate object on which we are setting values always behaves as a copy.\n",
      "\n",
      "For example, when doing 'df[col].method(value, inplace=True)', try using 'df.method({col: value}, inplace=True)' or df[col] = df[col].method(value) instead, to perform the operation inplace on the original object.\n",
      "\n",
      "\n",
      "  df['floorNum'].fillna(2.0,inplace=True)\n"
     ]
    }
   ],
   "execution_count": 64
  },
  {
   "metadata": {
    "ExecuteTime": {
     "end_time": "2025-06-26T14:35:50.841501Z",
     "start_time": "2025-06-26T14:35:50.832912Z"
    }
   },
   "cell_type": "code",
   "source": "df['floorNum']",
   "id": "51abca54cd947641",
   "outputs": [
    {
     "data": {
      "text/plain": [
       "0        3.0\n",
       "1       12.0\n",
       "2        0.0\n",
       "3        2.0\n",
       "4        3.0\n",
       "        ... \n",
       "3845     8.0\n",
       "3846     1.0\n",
       "3847     2.0\n",
       "3848    11.0\n",
       "3849     2.0\n",
       "Name: floorNum, Length: 3850, dtype: float64"
      ]
     },
     "execution_count": 65,
     "metadata": {},
     "output_type": "execute_result"
    }
   ],
   "execution_count": 65
  },
  {
   "metadata": {
    "ExecuteTime": {
     "end_time": "2025-06-26T14:36:06.269465Z",
     "start_time": "2025-06-26T14:36:06.252888Z"
    }
   },
   "cell_type": "code",
   "source": "df.isnull().sum()",
   "id": "727b749dcad33cd",
   "outputs": [
    {
     "data": {
      "text/plain": [
       "property_type         0\n",
       "society               1\n",
       "sector                0\n",
       "price                65\n",
       "price_per_sqft       27\n",
       "bedRoom              47\n",
       "bathroom             47\n",
       "balcony              47\n",
       "floorNum              0\n",
       "facing             1152\n",
       "agePossession         0\n",
       "built_up_area        47\n",
       "study room            0\n",
       "servant room          0\n",
       "store room            0\n",
       "pooja room            0\n",
       "others                0\n",
       "furnishing_type       0\n",
       "luxury_score          0\n",
       "dtype: int64"
      ]
     },
     "execution_count": 66,
     "metadata": {},
     "output_type": "execute_result"
    }
   ],
   "execution_count": 66
  },
  {
   "metadata": {
    "ExecuteTime": {
     "end_time": "2025-06-26T14:36:38.165248Z",
     "start_time": "2025-06-26T14:36:37.436384Z"
    }
   },
   "cell_type": "code",
   "source": "df['facing'].value_counts().plot(kind='pie',autopct='%0.2f%%')",
   "id": "4e41ee6917805659",
   "outputs": [
    {
     "data": {
      "text/plain": [
       "<Axes: ylabel='count'>"
      ]
     },
     "execution_count": 67,
     "metadata": {},
     "output_type": "execute_result"
    },
    {
     "data": {
      "text/plain": [
       "<Figure size 640x480 with 1 Axes>"
      ],
      "image/png": "[encoded data removed]"
     },
     "metadata": {},
     "output_type": "display_data"
    }
   ],
   "execution_count": 67
  },
  {
   "metadata": {
    "ExecuteTime": {
     "end_time": "2025-06-26T14:37:02.580296Z",
     "start_time": "2025-06-26T14:37:02.569930Z"
    }
   },
   "cell_type": "code",
   "source": "df.drop(columns=['facing'],inplace=True)",
   "id": "d5dbcba847fb73a6",
   "outputs": [],
   "execution_count": 68
  },
  {
   "metadata": {
    "ExecuteTime": {
     "end_time": "2025-06-26T14:37:07.291447Z",
     "start_time": "2025-06-26T14:37:07.285471Z"
    }
   },
   "cell_type": "code",
   "source": "df.shape",
   "id": "520461081524621e",
   "outputs": [
    {
     "data": {
      "text/plain": [
       "(3850, 18)"
      ]
     },
     "execution_count": 69,
     "metadata": {},
     "output_type": "execute_result"
    }
   ],
   "execution_count": 69
  },
  {
   "metadata": {
    "ExecuteTime": {
     "end_time": "2025-06-26T14:37:18.836292Z",
     "start_time": "2025-06-26T14:37:18.820473Z"
    }
   },
   "cell_type": "code",
   "source": "df.isnull().sum()",
   "id": "443bc3d31fc9c1c5",
   "outputs": [
    {
     "data": {
      "text/plain": [
       "property_type       0\n",
       "society             1\n",
       "sector              0\n",
       "price              65\n",
       "price_per_sqft     27\n",
       "bedRoom            47\n",
       "bathroom           47\n",
       "balcony            47\n",
       "floorNum            0\n",
       "agePossession       0\n",
       "built_up_area      47\n",
       "study room          0\n",
       "servant room        0\n",
       "store room          0\n",
       "pooja room          0\n",
       "others              0\n",
       "furnishing_type     0\n",
       "luxury_score        0\n",
       "dtype: int64"
      ]
     },
     "execution_count": 70,
     "metadata": {},
     "output_type": "execute_result"
    }
   ],
   "execution_count": 70
  },
  {
   "metadata": {
    "ExecuteTime": {
     "end_time": "2025-06-26T14:41:28.025780Z",
     "start_time": "2025-06-26T14:41:28.012486Z"
    }
   },
   "cell_type": "code",
   "source": "df = df[df['balcony'].notnull()]\n",
   "id": "aeaeca2eafc0cc3c",
   "outputs": [],
   "execution_count": 73
  },
  {
   "metadata": {
    "ExecuteTime": {
     "end_time": "2025-06-26T14:42:02.603835Z",
     "start_time": "2025-06-26T14:42:02.593149Z"
    }
   },
   "cell_type": "code",
   "source": "df[df['bathroom'].isnull()]",
   "id": "72050821b48fe2d8",
   "outputs": [
    {
     "data": {
      "text/plain": [
       "Empty DataFrame\n",
       "Columns: [property_type, society, sector, price, price_per_sqft, bedRoom, bathroom, balcony, floorNum, agePossession, built_up_area, study room, servant room, store room, pooja room, others, furnishing_type, luxury_score]\n",
       "Index: []"
      ],
      "text/html": [
       "<div>\n",
       "<style scoped>\n",
       "    .dataframe tbody tr th:only-of-type {\n",
       "        vertical-align: middle;\n",
       "    }\n",
       "\n",
       "    .dataframe tbody tr th {\n",
       "        vertical-align: top;\n",
       "    }\n",
       "\n",
       "    .dataframe thead th {\n",
       "        text-align: right;\n",
       "    }\n",
       "</style>\n",
       "<table border=\"1\" class=\"dataframe\">\n",
       "  <thead>\n",
       "    <tr style=\"text-align: right;\">\n",
       "      <th></th>\n",
       "      <th>property_type</th>\n",
       "      <th>society</th>\n",
       "      <th>sector</th>\n",
       "      <th>price</th>\n",
       "      <th>price_per_sqft</th>\n",
       "      <th>bedRoom</th>\n",
       "      <th>bathroom</th>\n",
       "      <th>balcony</th>\n",
       "      <th>floorNum</th>\n",
       "      <th>agePossession</th>\n",
       "      <th>built_up_area</th>\n",
       "      <th>study room</th>\n",
       "      <th>servant room</th>\n",
       "      <th>store room</th>\n",
       "      <th>pooja room</th>\n",
       "      <th>others</th>\n",
       "      <th>furnishing_type</th>\n",
       "      <th>luxury_score</th>\n",
       "    </tr>\n",
       "  </thead>\n",
       "  <tbody>\n",
       "  </tbody>\n",
       "</table>\n",
       "</div>"
      ]
     },
     "execution_count": 75,
     "metadata": {},
     "output_type": "execute_result"
    }
   ],
   "execution_count": 75
  },
  {
   "metadata": {
    "ExecuteTime": {
     "end_time": "2025-06-26T14:42:08.761138Z",
     "start_time": "2025-06-26T14:42:08.750080Z"
    }
   },
   "cell_type": "code",
   "source": "df.isnull().sum()",
   "id": "24f1d5eb55568159",
   "outputs": [
    {
     "data": {
      "text/plain": [
       "property_type       0\n",
       "society             1\n",
       "sector              0\n",
       "price              18\n",
       "price_per_sqft     18\n",
       "bedRoom             0\n",
       "bathroom            0\n",
       "balcony             0\n",
       "floorNum            0\n",
       "agePossession       0\n",
       "built_up_area       0\n",
       "study room          0\n",
       "servant room        0\n",
       "store room          0\n",
       "pooja room          0\n",
       "others              0\n",
       "furnishing_type     0\n",
       "luxury_score        0\n",
       "dtype: int64"
      ]
     },
     "execution_count": 76,
     "metadata": {},
     "output_type": "execute_result"
    }
   ],
   "execution_count": 76
  },
  {
   "metadata": {
    "ExecuteTime": {
     "end_time": "2025-06-26T14:43:26.819853Z",
     "start_time": "2025-06-26T14:43:26.780680Z"
    }
   },
   "cell_type": "code",
   "source": "df[df['price_per_sqft'].isnull()]",
   "id": "6397310c4acc24a",
   "outputs": [
    {
     "data": {
      "text/plain": [
       "     property_type                            society      sector  price  \\\n",
       "202          house                     unitech espace   sector 50    NaN   \n",
       "402          house                        independent   sector 25    NaN   \n",
       "695          house                 emaar mgf marbella   sector 66    NaN   \n",
       "852          house                 emaar mgf marbella   sector 66    NaN   \n",
       "939          house                        independent   sector 25    NaN   \n",
       "1048         house           unitech uniworld resorts   sector 33    NaN   \n",
       "1240         house                         sobha city  sector 108    NaN   \n",
       "1522         house             unitech greenwood city   sector 45    NaN   \n",
       "1664         house                 emaar mgf marbella   sector 66    NaN   \n",
       "2458         house                        independent   sector 11    NaN   \n",
       "2555         house           unitech uniworld resorts   sector 33    NaN   \n",
       "2763         house                     not applicable    sector 4    NaN   \n",
       "2952         house                        independent   sector 28    NaN   \n",
       "2989          flat  signature global orchard avenue 2   sector 93    NaN   \n",
       "3027         house                        independent   sector 11    NaN   \n",
       "3227         house              dlf city plot phase 3   sector 24    NaN   \n",
       "3237         house           unitech uniworld resorts   sector 33    NaN   \n",
       "3475         house                 emaar mgf marbella   sector 66    NaN   \n",
       "\n",
       "      price_per_sqft  bedRoom  bathroom balcony  floorNum       agePossession  \\\n",
       "202              NaN      5.0       5.0      3+       2.0      Moderately Old   \n",
       "402              NaN     12.0      12.0      3+       4.0        New Property   \n",
       "695              NaN      4.0       4.0      3+       3.0        New Property   \n",
       "852              NaN      5.0       7.0      3+       2.0      Moderately Old   \n",
       "939              NaN      5.0       5.0      3+       2.0      Relatively New   \n",
       "1048             NaN      5.0       8.0      3+       4.0      Relatively New   \n",
       "1240             NaN      5.0       1.0       0       1.0        Old Property   \n",
       "1522             NaN      9.0       9.0      3+       3.0      Relatively New   \n",
       "1664             NaN      5.0       5.0      3+       3.0      Relatively New   \n",
       "2458             NaN      2.0       2.0       1       1.0      Moderately Old   \n",
       "2555             NaN      5.0       7.0      3+       3.0      Relatively New   \n",
       "2763             NaN      5.0       3.0       2       3.0      Moderately Old   \n",
       "2952             NaN     16.0      16.0      3+       4.0        New Property   \n",
       "2989             NaN      2.0       2.0       3      11.0  Under Construction   \n",
       "3027             NaN      6.0       4.0       2       2.0      Moderately Old   \n",
       "3227             NaN      5.0       5.0      3+       4.0           Undefined   \n",
       "3237             NaN      5.0       8.0      3+       4.0      Relatively New   \n",
       "3475             NaN      5.0       5.0       3       2.0      Relatively New   \n",
       "\n",
       "      built_up_area  study room  servant room  store room  pooja room  others  \\\n",
       "202           360.0           1             0           0           0       0   \n",
       "402           260.0           1             1           0           1       1   \n",
       "695          6500.0           1             1           1           1       0   \n",
       "852           500.0           1             1           1           1       0   \n",
       "939           450.0           1             1           0           1       1   \n",
       "1048          520.0           0             1           1           0       0   \n",
       "1240         7331.0           0             0           0           0       0   \n",
       "1522          240.0           1             1           0           0       0   \n",
       "1664          350.0           1             1           0           1       0   \n",
       "2458         1000.0           0             0           0           0       0   \n",
       "2555          502.0           0             1           0           0       0   \n",
       "2763          670.0           0             0           0           0       0   \n",
       "2952          270.0           1             1           0           1       1   \n",
       "2989          641.0           0             0           0           0       0   \n",
       "3027         2700.0           0             0           0           0       0   \n",
       "3227         5000.0           0             0           0           0       0   \n",
       "3237          520.0           0             1           1           0       0   \n",
       "3475          350.0           0             0           0           0       0   \n",
       "\n",
       "      furnishing_type  luxury_score  \n",
       "202                 0            36  \n",
       "402                 1           144  \n",
       "695                 0           136  \n",
       "852                 2            70  \n",
       "939                 2            49  \n",
       "1048                2           100  \n",
       "1240                0            59  \n",
       "1522                1           110  \n",
       "1664                2           160  \n",
       "2458                0             0  \n",
       "2555                0            87  \n",
       "2763                0             0  \n",
       "2952                0            41  \n",
       "2989                0           104  \n",
       "3027                0            15  \n",
       "3227                0             0  \n",
       "3237                2           100  \n",
       "3475                2            22  "
      ],
      "text/html": [
       "<div>\n",
       "<style scoped>\n",
       "    .dataframe tbody tr th:only-of-type {\n",
       "        vertical-align: middle;\n",
       "    }\n",
       "\n",
       "    .dataframe tbody tr th {\n",
       "        vertical-align: top;\n",
       "    }\n",
       "\n",
       "    .dataframe thead th {\n",
       "        text-align: right;\n",
       "    }\n",
       "</style>\n",
       "<table border=\"1\" class=\"dataframe\">\n",
       "  <thead>\n",
       "    <tr style=\"text-align: right;\">\n",
       "      <th></th>\n",
       "      <th>property_type</th>\n",
       "      <th>society</th>\n",
       "      <th>sector</th>\n",
       "      <th>price</th>\n",
       "      <th>price_per_sqft</th>\n",
       "      <th>bedRoom</th>\n",
       "      <th>bathroom</th>\n",
       "      <th>balcony</th>\n",
       "      <th>floorNum</th>\n",
       "      <th>agePossession</th>\n",
       "      <th>built_up_area</th>\n",
       "      <th>study room</th>\n",
       "      <th>servant room</th>\n",
       "      <th>store room</th>\n",
       "      <th>pooja room</th>\n",
       "      <th>others</th>\n",
       "      <th>furnishing_type</th>\n",
       "      <th>luxury_score</th>\n",
       "    </tr>\n",
       "  </thead>\n",
       "  <tbody>\n",
       "    <tr>\n",
       "      <th>202</th>\n",
       "      <td>house</td>\n",
       "      <td>unitech espace</td>\n",
       "      <td>sector 50</td>\n",
       "      <td>NaN</td>\n",
       "      <td>NaN</td>\n",
       "      <td>5.0</td>\n",
       "      <td>5.0</td>\n",
       "      <td>3+</td>\n",
       "      <td>2.0</td>\n",
       "      <td>Moderately Old</td>\n",
       "      <td>360.0</td>\n",
       "      <td>1</td>\n",
       "      <td>0</td>\n",
       "      <td>0</td>\n",
       "      <td>0</td>\n",
       "      <td>0</td>\n",
       "      <td>0</td>\n",
       "      <td>36</td>\n",
       "    </tr>\n",
       "    <tr>\n",
       "      <th>402</th>\n",
       "      <td>house</td>\n",
       "      <td>independent</td>\n",
       "      <td>sector 25</td>\n",
       "      <td>NaN</td>\n",
       "      <td>NaN</td>\n",
       "      <td>12.0</td>\n",
       "      <td>12.0</td>\n",
       "      <td>3+</td>\n",
       "      <td>4.0</td>\n",
       "      <td>New Property</td>\n",
       "      <td>260.0</td>\n",
       "      <td>1</td>\n",
       "      <td>1</td>\n",
       "      <td>0</td>\n",
       "      <td>1</td>\n",
       "      <td>1</td>\n",
       "      <td>1</td>\n",
       "      <td>144</td>\n",
       "    </tr>\n",
       "    <tr>\n",
       "      <th>695</th>\n",
       "      <td>house</td>\n",
       "      <td>emaar mgf marbella</td>\n",
       "      <td>sector 66</td>\n",
       "      <td>NaN</td>\n",
       "      <td>NaN</td>\n",
       "      <td>4.0</td>\n",
       "      <td>4.0</td>\n",
       "      <td>3+</td>\n",
       "      <td>3.0</td>\n",
       "      <td>New Property</td>\n",
       "      <td>6500.0</td>\n",
       "      <td>1</td>\n",
       "      <td>1</td>\n",
       "      <td>1</td>\n",
       "      <td>1</td>\n",
       "      <td>0</td>\n",
       "      <td>0</td>\n",
       "      <td>136</td>\n",
       "    </tr>\n",
       "    <tr>\n",
       "      <th>852</th>\n",
       "      <td>house</td>\n",
       "      <td>emaar mgf marbella</td>\n",
       "      <td>sector 66</td>\n",
       "      <td>NaN</td>\n",
       "      <td>NaN</td>\n",
       "      <td>5.0</td>\n",
       "      <td>7.0</td>\n",
       "      <td>3+</td>\n",
       "      <td>2.0</td>\n",
       "      <td>Moderately Old</td>\n",
       "      <td>500.0</td>\n",
       "      <td>1</td>\n",
       "      <td>1</td>\n",
       "      <td>1</td>\n",
       "      <td>1</td>\n",
       "      <td>0</td>\n",
       "      <td>2</td>\n",
       "      <td>70</td>\n",
       "    </tr>\n",
       "    <tr>\n",
       "      <th>939</th>\n",
       "      <td>house</td>\n",
       "      <td>independent</td>\n",
       "      <td>sector 25</td>\n",
       "      <td>NaN</td>\n",
       "      <td>NaN</td>\n",
       "      <td>5.0</td>\n",
       "      <td>5.0</td>\n",
       "      <td>3+</td>\n",
       "      <td>2.0</td>\n",
       "      <td>Relatively New</td>\n",
       "      <td>450.0</td>\n",
       "      <td>1</td>\n",
       "      <td>1</td>\n",
       "      <td>0</td>\n",
       "      <td>1</td>\n",
       "      <td>1</td>\n",
       "      <td>2</td>\n",
       "      <td>49</td>\n",
       "    </tr>\n",
       "    <tr>\n",
       "      <th>1048</th>\n",
       "      <td>house</td>\n",
       "      <td>unitech uniworld resorts</td>\n",
       "      <td>sector 33</td>\n",
       "      <td>NaN</td>\n",
       "      <td>NaN</td>\n",
       "      <td>5.0</td>\n",
       "      <td>8.0</td>\n",
       "      <td>3+</td>\n",
       "      <td>4.0</td>\n",
       "      <td>Relatively New</td>\n",
       "      <td>520.0</td>\n",
       "      <td>0</td>\n",
       "      <td>1</td>\n",
       "      <td>1</td>\n",
       "      <td>0</td>\n",
       "      <td>0</td>\n",
       "      <td>2</td>\n",
       "      <td>100</td>\n",
       "    </tr>\n",
       "    <tr>\n",
       "      <th>1240</th>\n",
       "      <td>house</td>\n",
       "      <td>sobha city</td>\n",
       "      <td>sector 108</td>\n",
       "      <td>NaN</td>\n",
       "      <td>NaN</td>\n",
       "      <td>5.0</td>\n",
       "      <td>1.0</td>\n",
       "      <td>0</td>\n",
       "      <td>1.0</td>\n",
       "      <td>Old Property</td>\n",
       "      <td>7331.0</td>\n",
       "      <td>0</td>\n",
       "      <td>0</td>\n",
       "      <td>0</td>\n",
       "      <td>0</td>\n",
       "      <td>0</td>\n",
       "      <td>0</td>\n",
       "      <td>59</td>\n",
       "    </tr>\n",
       "    <tr>\n",
       "      <th>1522</th>\n",
       "      <td>house</td>\n",
       "      <td>unitech greenwood city</td>\n",
       "      <td>sector 45</td>\n",
       "      <td>NaN</td>\n",
       "      <td>NaN</td>\n",
       "      <td>9.0</td>\n",
       "      <td>9.0</td>\n",
       "      <td>3+</td>\n",
       "      <td>3.0</td>\n",
       "      <td>Relatively New</td>\n",
       "      <td>240.0</td>\n",
       "      <td>1</td>\n",
       "      <td>1</td>\n",
       "      <td>0</td>\n",
       "      <td>0</td>\n",
       "      <td>0</td>\n",
       "      <td>1</td>\n",
       "      <td>110</td>\n",
       "    </tr>\n",
       "    <tr>\n",
       "      <th>1664</th>\n",
       "      <td>house</td>\n",
       "      <td>emaar mgf marbella</td>\n",
       "      <td>sector 66</td>\n",
       "      <td>NaN</td>\n",
       "      <td>NaN</td>\n",
       "      <td>5.0</td>\n",
       "      <td>5.0</td>\n",
       "      <td>3+</td>\n",
       "      <td>3.0</td>\n",
       "      <td>Relatively New</td>\n",
       "      <td>350.0</td>\n",
       "      <td>1</td>\n",
       "      <td>1</td>\n",
       "      <td>0</td>\n",
       "      <td>1</td>\n",
       "      <td>0</td>\n",
       "      <td>2</td>\n",
       "      <td>160</td>\n",
       "    </tr>\n",
       "    <tr>\n",
       "      <th>2458</th>\n",
       "      <td>house</td>\n",
       "      <td>independent</td>\n",
       "      <td>sector 11</td>\n",
       "      <td>NaN</td>\n",
       "      <td>NaN</td>\n",
       "      <td>2.0</td>\n",
       "      <td>2.0</td>\n",
       "      <td>1</td>\n",
       "      <td>1.0</td>\n",
       "      <td>Moderately Old</td>\n",
       "      <td>1000.0</td>\n",
       "      <td>0</td>\n",
       "      <td>0</td>\n",
       "      <td>0</td>\n",
       "      <td>0</td>\n",
       "      <td>0</td>\n",
       "      <td>0</td>\n",
       "      <td>0</td>\n",
       "    </tr>\n",
       "    <tr>\n",
       "      <th>2555</th>\n",
       "      <td>house</td>\n",
       "      <td>unitech uniworld resorts</td>\n",
       "      <td>sector 33</td>\n",
       "      <td>NaN</td>\n",
       "      <td>NaN</td>\n",
       "      <td>5.0</td>\n",
       "      <td>7.0</td>\n",
       "      <td>3+</td>\n",
       "      <td>3.0</td>\n",
       "      <td>Relatively New</td>\n",
       "      <td>502.0</td>\n",
       "      <td>0</td>\n",
       "      <td>1</td>\n",
       "      <td>0</td>\n",
       "      <td>0</td>\n",
       "      <td>0</td>\n",
       "      <td>0</td>\n",
       "      <td>87</td>\n",
       "    </tr>\n",
       "    <tr>\n",
       "      <th>2763</th>\n",
       "      <td>house</td>\n",
       "      <td>not applicable</td>\n",
       "      <td>sector 4</td>\n",
       "      <td>NaN</td>\n",
       "      <td>NaN</td>\n",
       "      <td>5.0</td>\n",
       "      <td>3.0</td>\n",
       "      <td>2</td>\n",
       "      <td>3.0</td>\n",
       "      <td>Moderately Old</td>\n",
       "      <td>670.0</td>\n",
       "      <td>0</td>\n",
       "      <td>0</td>\n",
       "      <td>0</td>\n",
       "      <td>0</td>\n",
       "      <td>0</td>\n",
       "      <td>0</td>\n",
       "      <td>0</td>\n",
       "    </tr>\n",
       "    <tr>\n",
       "      <th>2952</th>\n",
       "      <td>house</td>\n",
       "      <td>independent</td>\n",
       "      <td>sector 28</td>\n",
       "      <td>NaN</td>\n",
       "      <td>NaN</td>\n",
       "      <td>16.0</td>\n",
       "      <td>16.0</td>\n",
       "      <td>3+</td>\n",
       "      <td>4.0</td>\n",
       "      <td>New Property</td>\n",
       "      <td>270.0</td>\n",
       "      <td>1</td>\n",
       "      <td>1</td>\n",
       "      <td>0</td>\n",
       "      <td>1</td>\n",
       "      <td>1</td>\n",
       "      <td>0</td>\n",
       "      <td>41</td>\n",
       "    </tr>\n",
       "    <tr>\n",
       "      <th>2989</th>\n",
       "      <td>flat</td>\n",
       "      <td>signature global orchard avenue 2</td>\n",
       "      <td>sector 93</td>\n",
       "      <td>NaN</td>\n",
       "      <td>NaN</td>\n",
       "      <td>2.0</td>\n",
       "      <td>2.0</td>\n",
       "      <td>3</td>\n",
       "      <td>11.0</td>\n",
       "      <td>Under Construction</td>\n",
       "      <td>641.0</td>\n",
       "      <td>0</td>\n",
       "      <td>0</td>\n",
       "      <td>0</td>\n",
       "      <td>0</td>\n",
       "      <td>0</td>\n",
       "      <td>0</td>\n",
       "      <td>104</td>\n",
       "    </tr>\n",
       "    <tr>\n",
       "      <th>3027</th>\n",
       "      <td>house</td>\n",
       "      <td>independent</td>\n",
       "      <td>sector 11</td>\n",
       "      <td>NaN</td>\n",
       "      <td>NaN</td>\n",
       "      <td>6.0</td>\n",
       "      <td>4.0</td>\n",
       "      <td>2</td>\n",
       "      <td>2.0</td>\n",
       "      <td>Moderately Old</td>\n",
       "      <td>2700.0</td>\n",
       "      <td>0</td>\n",
       "      <td>0</td>\n",
       "      <td>0</td>\n",
       "      <td>0</td>\n",
       "      <td>0</td>\n",
       "      <td>0</td>\n",
       "      <td>15</td>\n",
       "    </tr>\n",
       "    <tr>\n",
       "      <th>3227</th>\n",
       "      <td>house</td>\n",
       "      <td>dlf city plot phase 3</td>\n",
       "      <td>sector 24</td>\n",
       "      <td>NaN</td>\n",
       "      <td>NaN</td>\n",
       "      <td>5.0</td>\n",
       "      <td>5.0</td>\n",
       "      <td>3+</td>\n",
       "      <td>4.0</td>\n",
       "      <td>Undefined</td>\n",
       "      <td>5000.0</td>\n",
       "      <td>0</td>\n",
       "      <td>0</td>\n",
       "      <td>0</td>\n",
       "      <td>0</td>\n",
       "      <td>0</td>\n",
       "      <td>0</td>\n",
       "      <td>0</td>\n",
       "    </tr>\n",
       "    <tr>\n",
       "      <th>3237</th>\n",
       "      <td>house</td>\n",
       "      <td>unitech uniworld resorts</td>\n",
       "      <td>sector 33</td>\n",
       "      <td>NaN</td>\n",
       "      <td>NaN</td>\n",
       "      <td>5.0</td>\n",
       "      <td>8.0</td>\n",
       "      <td>3+</td>\n",
       "      <td>4.0</td>\n",
       "      <td>Relatively New</td>\n",
       "      <td>520.0</td>\n",
       "      <td>0</td>\n",
       "      <td>1</td>\n",
       "      <td>1</td>\n",
       "      <td>0</td>\n",
       "      <td>0</td>\n",
       "      <td>2</td>\n",
       "      <td>100</td>\n",
       "    </tr>\n",
       "    <tr>\n",
       "      <th>3475</th>\n",
       "      <td>house</td>\n",
       "      <td>emaar mgf marbella</td>\n",
       "      <td>sector 66</td>\n",
       "      <td>NaN</td>\n",
       "      <td>NaN</td>\n",
       "      <td>5.0</td>\n",
       "      <td>5.0</td>\n",
       "      <td>3</td>\n",
       "      <td>2.0</td>\n",
       "      <td>Relatively New</td>\n",
       "      <td>350.0</td>\n",
       "      <td>0</td>\n",
       "      <td>0</td>\n",
       "      <td>0</td>\n",
       "      <td>0</td>\n",
       "      <td>0</td>\n",
       "      <td>2</td>\n",
       "      <td>22</td>\n",
       "    </tr>\n",
       "  </tbody>\n",
       "</table>\n",
       "</div>"
      ]
     },
     "execution_count": 78,
     "metadata": {},
     "output_type": "execute_result"
    }
   ],
   "execution_count": 78
  },
  {
   "metadata": {
    "ExecuteTime": {
     "end_time": "2025-06-26T14:48:52.574680Z",
     "start_time": "2025-06-26T14:48:52.564386Z"
    }
   },
   "cell_type": "code",
   "source": "df[df['price_per_sqft'].isnull()][['price', 'price_per_sqft']]\n",
   "id": "b861f7965b42739f",
   "outputs": [
    {
     "data": {
      "text/plain": [
       "Empty DataFrame\n",
       "Columns: [price, price_per_sqft]\n",
       "Index: []"
      ],
      "text/html": [
       "<div>\n",
       "<style scoped>\n",
       "    .dataframe tbody tr th:only-of-type {\n",
       "        vertical-align: middle;\n",
       "    }\n",
       "\n",
       "    .dataframe tbody tr th {\n",
       "        vertical-align: top;\n",
       "    }\n",
       "\n",
       "    .dataframe thead th {\n",
       "        text-align: right;\n",
       "    }\n",
       "</style>\n",
       "<table border=\"1\" class=\"dataframe\">\n",
       "  <thead>\n",
       "    <tr style=\"text-align: right;\">\n",
       "      <th></th>\n",
       "      <th>price</th>\n",
       "      <th>price_per_sqft</th>\n",
       "    </tr>\n",
       "  </thead>\n",
       "  <tbody>\n",
       "  </tbody>\n",
       "</table>\n",
       "</div>"
      ]
     },
     "execution_count": 86,
     "metadata": {},
     "output_type": "execute_result"
    }
   ],
   "execution_count": 86
  },
  {
   "metadata": {
    "ExecuteTime": {
     "end_time": "2025-06-26T14:48:42.795895Z",
     "start_time": "2025-06-26T14:48:42.777079Z"
    }
   },
   "cell_type": "code",
   "source": [
    "df = df.dropna(subset=['price'])\n",
    "df['price_per_sqft'] = (df['price'] * 10000000) / df['built_up_area']\n",
    "\n"
   ],
   "id": "9337241827bb71c",
   "outputs": [],
   "execution_count": 85
  },
  {
   "metadata": {
    "ExecuteTime": {
     "end_time": "2025-06-26T14:49:06.176899Z",
     "start_time": "2025-06-26T14:49:06.166379Z"
    }
   },
   "cell_type": "code",
   "source": "df[df['price_per_sqft'].isnull()]",
   "id": "29b7de5a0b569f18",
   "outputs": [
    {
     "data": {
      "text/plain": [
       "Empty DataFrame\n",
       "Columns: [property_type, society, sector, price, price_per_sqft, bedRoom, bathroom, balcony, floorNum, agePossession, built_up_area, study room, servant room, store room, pooja room, others, furnishing_type, luxury_score]\n",
       "Index: []"
      ],
      "text/html": [
       "<div>\n",
       "<style scoped>\n",
       "    .dataframe tbody tr th:only-of-type {\n",
       "        vertical-align: middle;\n",
       "    }\n",
       "\n",
       "    .dataframe tbody tr th {\n",
       "        vertical-align: top;\n",
       "    }\n",
       "\n",
       "    .dataframe thead th {\n",
       "        text-align: right;\n",
       "    }\n",
       "</style>\n",
       "<table border=\"1\" class=\"dataframe\">\n",
       "  <thead>\n",
       "    <tr style=\"text-align: right;\">\n",
       "      <th></th>\n",
       "      <th>property_type</th>\n",
       "      <th>society</th>\n",
       "      <th>sector</th>\n",
       "      <th>price</th>\n",
       "      <th>price_per_sqft</th>\n",
       "      <th>bedRoom</th>\n",
       "      <th>bathroom</th>\n",
       "      <th>balcony</th>\n",
       "      <th>floorNum</th>\n",
       "      <th>agePossession</th>\n",
       "      <th>built_up_area</th>\n",
       "      <th>study room</th>\n",
       "      <th>servant room</th>\n",
       "      <th>store room</th>\n",
       "      <th>pooja room</th>\n",
       "      <th>others</th>\n",
       "      <th>furnishing_type</th>\n",
       "      <th>luxury_score</th>\n",
       "    </tr>\n",
       "  </thead>\n",
       "  <tbody>\n",
       "  </tbody>\n",
       "</table>\n",
       "</div>"
      ]
     },
     "execution_count": 87,
     "metadata": {},
     "output_type": "execute_result"
    }
   ],
   "execution_count": 87
  },
  {
   "metadata": {
    "ExecuteTime": {
     "end_time": "2025-06-26T14:49:18.844673Z",
     "start_time": "2025-06-26T14:49:18.838761Z"
    }
   },
   "cell_type": "code",
   "source": "df.shape",
   "id": "ab0fdbc75a2e2937",
   "outputs": [
    {
     "data": {
      "text/plain": [
       "(3803, 18)"
      ]
     },
     "execution_count": 88,
     "metadata": {},
     "output_type": "execute_result"
    }
   ],
   "execution_count": 88
  },
  {
   "metadata": {
    "ExecuteTime": {
     "end_time": "2025-06-26T14:49:31.185489Z",
     "start_time": "2025-06-26T14:49:31.175494Z"
    }
   },
   "cell_type": "code",
   "source": "df.isnull().sum()",
   "id": "b43a5e222b53e8a8",
   "outputs": [
    {
     "data": {
      "text/plain": [
       "property_type      0\n",
       "society            1\n",
       "sector             0\n",
       "price              0\n",
       "price_per_sqft     0\n",
       "bedRoom            0\n",
       "bathroom           0\n",
       "balcony            0\n",
       "floorNum           0\n",
       "agePossession      0\n",
       "built_up_area      0\n",
       "study room         0\n",
       "servant room       0\n",
       "store room         0\n",
       "pooja room         0\n",
       "others             0\n",
       "furnishing_type    0\n",
       "luxury_score       0\n",
       "dtype: int64"
      ]
     },
     "execution_count": 89,
     "metadata": {},
     "output_type": "execute_result"
    }
   ],
   "execution_count": 89
  },
  {
   "metadata": {
    "ExecuteTime": {
     "end_time": "2025-06-26T14:50:13.376273Z",
     "start_time": "2025-06-26T14:50:13.358301Z"
    }
   },
   "cell_type": "code",
   "source": "df[df['society'].isnull()]",
   "id": "8a9c58dcedb0a0a3",
   "outputs": [
    {
     "data": {
      "text/plain": [
       "     property_type society     sector  price  price_per_sqft  bedRoom  \\\n",
       "3826          flat     NaN  sector 78    0.6     3692.307692      2.0   \n",
       "\n",
       "      bathroom balcony  floorNum       agePossession  built_up_area  \\\n",
       "3826       2.0       0       2.0  Under Construction         1625.0   \n",
       "\n",
       "      study room  servant room  store room  pooja room  others  \\\n",
       "3826           0             0           0           0       0   \n",
       "\n",
       "      furnishing_type  luxury_score  \n",
       "3826                0             0  "
      ],
      "text/html": [
       "<div>\n",
       "<style scoped>\n",
       "    .dataframe tbody tr th:only-of-type {\n",
       "        vertical-align: middle;\n",
       "    }\n",
       "\n",
       "    .dataframe tbody tr th {\n",
       "        vertical-align: top;\n",
       "    }\n",
       "\n",
       "    .dataframe thead th {\n",
       "        text-align: right;\n",
       "    }\n",
       "</style>\n",
       "<table border=\"1\" class=\"dataframe\">\n",
       "  <thead>\n",
       "    <tr style=\"text-align: right;\">\n",
       "      <th></th>\n",
       "      <th>property_type</th>\n",
       "      <th>society</th>\n",
       "      <th>sector</th>\n",
       "      <th>price</th>\n",
       "      <th>price_per_sqft</th>\n",
       "      <th>bedRoom</th>\n",
       "      <th>bathroom</th>\n",
       "      <th>balcony</th>\n",
       "      <th>floorNum</th>\n",
       "      <th>agePossession</th>\n",
       "      <th>built_up_area</th>\n",
       "      <th>study room</th>\n",
       "      <th>servant room</th>\n",
       "      <th>store room</th>\n",
       "      <th>pooja room</th>\n",
       "      <th>others</th>\n",
       "      <th>furnishing_type</th>\n",
       "      <th>luxury_score</th>\n",
       "    </tr>\n",
       "  </thead>\n",
       "  <tbody>\n",
       "    <tr>\n",
       "      <th>3826</th>\n",
       "      <td>flat</td>\n",
       "      <td>NaN</td>\n",
       "      <td>sector 78</td>\n",
       "      <td>0.6</td>\n",
       "      <td>3692.307692</td>\n",
       "      <td>2.0</td>\n",
       "      <td>2.0</td>\n",
       "      <td>0</td>\n",
       "      <td>2.0</td>\n",
       "      <td>Under Construction</td>\n",
       "      <td>1625.0</td>\n",
       "      <td>0</td>\n",
       "      <td>0</td>\n",
       "      <td>0</td>\n",
       "      <td>0</td>\n",
       "      <td>0</td>\n",
       "      <td>0</td>\n",
       "      <td>0</td>\n",
       "    </tr>\n",
       "  </tbody>\n",
       "</table>\n",
       "</div>"
      ]
     },
     "execution_count": 90,
     "metadata": {},
     "output_type": "execute_result"
    }
   ],
   "execution_count": 90
  },
  {
   "metadata": {
    "ExecuteTime": {
     "end_time": "2025-06-26T14:50:43.301890Z",
     "start_time": "2025-06-26T14:50:43.285888Z"
    }
   },
   "cell_type": "code",
   "source": "df.drop(index=[3826],inplace=True)",
   "id": "ddac1b59a1e28bc7",
   "outputs": [],
   "execution_count": 91
  },
  {
   "metadata": {
    "ExecuteTime": {
     "end_time": "2025-06-26T14:50:53.387217Z",
     "start_time": "2025-06-26T14:50:53.379259Z"
    }
   },
   "cell_type": "code",
   "source": "df.isnull().sum()",
   "id": "cf01904e9624456d",
   "outputs": [
    {
     "data": {
      "text/plain": [
       "property_type      0\n",
       "society            0\n",
       "sector             0\n",
       "price              0\n",
       "price_per_sqft     0\n",
       "bedRoom            0\n",
       "bathroom           0\n",
       "balcony            0\n",
       "floorNum           0\n",
       "agePossession      0\n",
       "built_up_area      0\n",
       "study room         0\n",
       "servant room       0\n",
       "store room         0\n",
       "pooja room         0\n",
       "others             0\n",
       "furnishing_type    0\n",
       "luxury_score       0\n",
       "dtype: int64"
      ]
     },
     "execution_count": 92,
     "metadata": {},
     "output_type": "execute_result"
    }
   ],
   "execution_count": 92
  },
  {
   "metadata": {
    "ExecuteTime": {
     "end_time": "2025-06-26T14:51:02.139864Z",
     "start_time": "2025-06-26T14:51:02.108870Z"
    }
   },
   "cell_type": "code",
   "source": "df.shape()",
   "id": "568ad6ea78794423",
   "outputs": [
    {
     "ename": "TypeError",
     "evalue": "'tuple' object is not callable",
     "output_type": "error",
     "traceback": [
      "\u001B[31m---------------------------------------------------------------------------\u001B[39m",
      "\u001B[31mTypeError\u001B[39m                                 Traceback (most recent call last)",
      "\u001B[36mCell\u001B[39m\u001B[36m \u001B[39m\u001B[32mIn[93]\u001B[39m\u001B[32m, line 1\u001B[39m\n\u001B[32m----> \u001B[39m\u001B[32m1\u001B[39m \u001B[43mdf\u001B[49m\u001B[43m.\u001B[49m\u001B[43mshape\u001B[49m\u001B[43m(\u001B[49m\u001B[43m)\u001B[49m\n",
      "\u001B[31mTypeError\u001B[39m: 'tuple' object is not callable"
     ]
    }
   ],
   "execution_count": 93
  },
  {
   "metadata": {
    "ExecuteTime": {
     "end_time": "2025-06-26T14:51:06.566515Z",
     "start_time": "2025-06-26T14:51:06.560499Z"
    }
   },
   "cell_type": "code",
   "source": "df.shape",
   "id": "d15ae13d951a2efb",
   "outputs": [
    {
     "data": {
      "text/plain": [
       "(3802, 18)"
      ]
     },
     "execution_count": 94,
     "metadata": {},
     "output_type": "execute_result"
    }
   ],
   "execution_count": 94
  },
  {
   "metadata": {
    "ExecuteTime": {
     "end_time": "2025-06-26T14:51:22.814773Z",
     "start_time": "2025-06-26T14:51:22.789767Z"
    }
   },
   "cell_type": "code",
   "source": "df['agePossession'].value_counts()",
   "id": "fe83723d2df5ca3e",
   "outputs": [
    {
     "data": {
      "text/plain": [
       "agePossession\n",
       "Relatively New        1676\n",
       "New Property           626\n",
       "Moderately Old         575\n",
       "Undefined              333\n",
       "Old Property           310\n",
       "Under Construction     282\n",
       "Name: count, dtype: int64"
      ]
     },
     "execution_count": 95,
     "metadata": {},
     "output_type": "execute_result"
    }
   ],
   "execution_count": 95
  },
  {
   "metadata": {
    "ExecuteTime": {
     "end_time": "2025-06-26T14:51:52.177944Z",
     "start_time": "2025-06-26T14:51:52.155067Z"
    }
   },
   "cell_type": "code",
   "source": "df[df['agePossession'] == 'Undefined'].sample(5)",
   "id": "b02f2233e6a581e3",
   "outputs": [
    {
     "data": {
      "text/plain": [
       "     property_type              society      sector  price  price_per_sqft  \\\n",
       "2844         house          independent    sector 3   0.60     6000.000000   \n",
       "1678         house          greenopolis   sector 89   0.70     5397.070162   \n",
       "1787          flat          m3m skywalk   sector 74   1.78    11251.580278   \n",
       "3229          flat           ild greens  sector 37c   0.75     5244.755245   \n",
       "2317          flat  aipl zen residences  sector 70a   1.40    11093.502377   \n",
       "\n",
       "      bedRoom  bathroom balcony  floorNum agePossession  built_up_area  \\\n",
       "2844      1.0       1.0       0       1.0     Undefined         1000.0   \n",
       "1678      2.0       2.0       2      14.0     Undefined         1297.0   \n",
       "1787      2.0       2.0      3+      12.0     Undefined         1582.0   \n",
       "3229      2.0       2.0      3+      13.0     Undefined         1430.0   \n",
       "2317      2.0       2.0       2      16.0     Undefined         1262.0   \n",
       "\n",
       "      study room  servant room  store room  pooja room  others  \\\n",
       "2844           0             0           0           0       0   \n",
       "1678           0             0           0           0       0   \n",
       "1787           0             0           0           0       0   \n",
       "3229           0             0           0           0       0   \n",
       "2317           0             0           0           0       0   \n",
       "\n",
       "      furnishing_type  luxury_score  \n",
       "2844                0             0  \n",
       "1678                0             0  \n",
       "1787                0            63  \n",
       "3229                0            51  \n",
       "2317                0             0  "
      ],
      "text/html": [
       "<div>\n",
       "<style scoped>\n",
       "    .dataframe tbody tr th:only-of-type {\n",
       "        vertical-align: middle;\n",
       "    }\n",
       "\n",
       "    .dataframe tbody tr th {\n",
       "        vertical-align: top;\n",
       "    }\n",
       "\n",
       "    .dataframe thead th {\n",
       "        text-align: right;\n",
       "    }\n",
       "</style>\n",
       "<table border=\"1\" class=\"dataframe\">\n",
       "  <thead>\n",
       "    <tr style=\"text-align: right;\">\n",
       "      <th></th>\n",
       "      <th>property_type</th>\n",
       "      <th>society</th>\n",
       "      <th>sector</th>\n",
       "      <th>price</th>\n",
       "      <th>price_per_sqft</th>\n",
       "      <th>bedRoom</th>\n",
       "      <th>bathroom</th>\n",
       "      <th>balcony</th>\n",
       "      <th>floorNum</th>\n",
       "      <th>agePossession</th>\n",
       "      <th>built_up_area</th>\n",
       "      <th>study room</th>\n",
       "      <th>servant room</th>\n",
       "      <th>store room</th>\n",
       "      <th>pooja room</th>\n",
       "      <th>others</th>\n",
       "      <th>furnishing_type</th>\n",
       "      <th>luxury_score</th>\n",
       "    </tr>\n",
       "  </thead>\n",
       "  <tbody>\n",
       "    <tr>\n",
       "      <th>2844</th>\n",
       "      <td>house</td>\n",
       "      <td>independent</td>\n",
       "      <td>sector 3</td>\n",
       "      <td>0.60</td>\n",
       "      <td>6000.000000</td>\n",
       "      <td>1.0</td>\n",
       "      <td>1.0</td>\n",
       "      <td>0</td>\n",
       "      <td>1.0</td>\n",
       "      <td>Undefined</td>\n",
       "      <td>1000.0</td>\n",
       "      <td>0</td>\n",
       "      <td>0</td>\n",
       "      <td>0</td>\n",
       "      <td>0</td>\n",
       "      <td>0</td>\n",
       "      <td>0</td>\n",
       "      <td>0</td>\n",
       "    </tr>\n",
       "    <tr>\n",
       "      <th>1678</th>\n",
       "      <td>house</td>\n",
       "      <td>greenopolis</td>\n",
       "      <td>sector 89</td>\n",
       "      <td>0.70</td>\n",
       "      <td>5397.070162</td>\n",
       "      <td>2.0</td>\n",
       "      <td>2.0</td>\n",
       "      <td>2</td>\n",
       "      <td>14.0</td>\n",
       "      <td>Undefined</td>\n",
       "      <td>1297.0</td>\n",
       "      <td>0</td>\n",
       "      <td>0</td>\n",
       "      <td>0</td>\n",
       "      <td>0</td>\n",
       "      <td>0</td>\n",
       "      <td>0</td>\n",
       "      <td>0</td>\n",
       "    </tr>\n",
       "    <tr>\n",
       "      <th>1787</th>\n",
       "      <td>flat</td>\n",
       "      <td>m3m skywalk</td>\n",
       "      <td>sector 74</td>\n",
       "      <td>1.78</td>\n",
       "      <td>11251.580278</td>\n",
       "      <td>2.0</td>\n",
       "      <td>2.0</td>\n",
       "      <td>3+</td>\n",
       "      <td>12.0</td>\n",
       "      <td>Undefined</td>\n",
       "      <td>1582.0</td>\n",
       "      <td>0</td>\n",
       "      <td>0</td>\n",
       "      <td>0</td>\n",
       "      <td>0</td>\n",
       "      <td>0</td>\n",
       "      <td>0</td>\n",
       "      <td>63</td>\n",
       "    </tr>\n",
       "    <tr>\n",
       "      <th>3229</th>\n",
       "      <td>flat</td>\n",
       "      <td>ild greens</td>\n",
       "      <td>sector 37c</td>\n",
       "      <td>0.75</td>\n",
       "      <td>5244.755245</td>\n",
       "      <td>2.0</td>\n",
       "      <td>2.0</td>\n",
       "      <td>3+</td>\n",
       "      <td>13.0</td>\n",
       "      <td>Undefined</td>\n",
       "      <td>1430.0</td>\n",
       "      <td>0</td>\n",
       "      <td>0</td>\n",
       "      <td>0</td>\n",
       "      <td>0</td>\n",
       "      <td>0</td>\n",
       "      <td>0</td>\n",
       "      <td>51</td>\n",
       "    </tr>\n",
       "    <tr>\n",
       "      <th>2317</th>\n",
       "      <td>flat</td>\n",
       "      <td>aipl zen residences</td>\n",
       "      <td>sector 70a</td>\n",
       "      <td>1.40</td>\n",
       "      <td>11093.502377</td>\n",
       "      <td>2.0</td>\n",
       "      <td>2.0</td>\n",
       "      <td>2</td>\n",
       "      <td>16.0</td>\n",
       "      <td>Undefined</td>\n",
       "      <td>1262.0</td>\n",
       "      <td>0</td>\n",
       "      <td>0</td>\n",
       "      <td>0</td>\n",
       "      <td>0</td>\n",
       "      <td>0</td>\n",
       "      <td>0</td>\n",
       "      <td>0</td>\n",
       "    </tr>\n",
       "  </tbody>\n",
       "</table>\n",
       "</div>"
      ]
     },
     "execution_count": 98,
     "metadata": {},
     "output_type": "execute_result"
    }
   ],
   "execution_count": 98
  },
  {
   "metadata": {
    "ExecuteTime": {
     "end_time": "2025-06-26T14:54:38.317306Z",
     "start_time": "2025-06-26T14:54:38.304488Z"
    }
   },
   "cell_type": "code",
   "source": [
    "def mode_based_imputation(row):\n",
    "    if row['agePossession'] == 'Undefined':\n",
    "        mode_value = df[(df['sector'] == row['sector']) & (df['property_type'] == row['property_type'])]['agePossession'].mode()\n",
    "        # If mode_value is empty (no mode found), return NaN, otherwise return the mode\n",
    "        if not mode_value.empty:\n",
    "            return mode_value.iloc[0]\n",
    "        else:\n",
    "            return np.nan\n",
    "    else:\n",
    "        return row['agePossession']"
   ],
   "id": "950c54d90b9623cb",
   "outputs": [],
   "execution_count": 99
  },
  {
   "metadata": {
    "ExecuteTime": {
     "end_time": "2025-06-26T14:54:52.719733Z",
     "start_time": "2025-06-26T14:54:51.729501Z"
    }
   },
   "cell_type": "code",
   "source": "df['agePossession'] = df.apply(mode_based_imputation,axis=1)",
   "id": "6b21c35e5aa26a91",
   "outputs": [],
   "execution_count": 100
  },
  {
   "metadata": {
    "ExecuteTime": {
     "end_time": "2025-06-26T14:55:01.066420Z",
     "start_time": "2025-06-26T14:55:01.057323Z"
    }
   },
   "cell_type": "code",
   "source": "df['agePossession']",
   "id": "8924528152c5ddb9",
   "outputs": [
    {
     "data": {
      "text/plain": [
       "0           Relatively New\n",
       "1           Moderately Old\n",
       "2             New Property\n",
       "3             Old Property\n",
       "4             New Property\n",
       "               ...        \n",
       "3845          New Property\n",
       "3846    Under Construction\n",
       "3847        Relatively New\n",
       "3848        Relatively New\n",
       "3849        Relatively New\n",
       "Name: agePossession, Length: 3802, dtype: object"
      ]
     },
     "execution_count": 101,
     "metadata": {},
     "output_type": "execute_result"
    }
   ],
   "execution_count": 101
  },
  {
   "metadata": {
    "ExecuteTime": {
     "end_time": "2025-06-26T14:55:17.731941Z",
     "start_time": "2025-06-26T14:55:17.724344Z"
    }
   },
   "cell_type": "code",
   "source": "df.isnull().sum()",
   "id": "fcbefbde90a7001",
   "outputs": [
    {
     "data": {
      "text/plain": [
       "property_type      0\n",
       "society            0\n",
       "sector             0\n",
       "price              0\n",
       "price_per_sqft     0\n",
       "bedRoom            0\n",
       "bathroom           0\n",
       "balcony            0\n",
       "floorNum           0\n",
       "agePossession      0\n",
       "built_up_area      0\n",
       "study room         0\n",
       "servant room       0\n",
       "store room         0\n",
       "pooja room         0\n",
       "others             0\n",
       "furnishing_type    0\n",
       "luxury_score       0\n",
       "dtype: int64"
      ]
     },
     "execution_count": 102,
     "metadata": {},
     "output_type": "execute_result"
    }
   ],
   "execution_count": 102
  },
  {
   "metadata": {
    "ExecuteTime": {
     "end_time": "2025-06-26T14:55:55.355617Z",
     "start_time": "2025-06-26T14:55:55.347543Z"
    }
   },
   "cell_type": "code",
   "source": "df['agePossession'].value_counts()",
   "id": "60f8dc4455183171",
   "outputs": [
    {
     "data": {
      "text/plain": [
       "agePossession\n",
       "Relatively New        1823\n",
       "New Property           657\n",
       "Moderately Old         621\n",
       "Old Property           346\n",
       "Under Construction     299\n",
       "Undefined               56\n",
       "Name: count, dtype: int64"
      ]
     },
     "execution_count": 103,
     "metadata": {},
     "output_type": "execute_result"
    }
   ],
   "execution_count": 103
  },
  {
   "metadata": {
    "ExecuteTime": {
     "end_time": "2025-06-26T14:57:14.893771Z",
     "start_time": "2025-06-26T14:57:14.870848Z"
    }
   },
   "cell_type": "code",
   "source": [
    "def mode_based_imputation2(row):\n",
    "    if row['agePossession'] == 'Undefined':\n",
    "        mode_value = df[(df['sector'] == row['sector'])]['agePossession'].mode()\n",
    "        # If mode_value is empty (no mode found), return NaN, otherwise return the mode\n",
    "        if not mode_value.empty:\n",
    "            return mode_value.iloc[0]\n",
    "        else:\n",
    "            return np.nan\n",
    "    else:\n",
    "        return row['agePossession']"
   ],
   "id": "8d88bb6da241589e",
   "outputs": [],
   "execution_count": 104
  },
  {
   "metadata": {
    "ExecuteTime": {
     "end_time": "2025-06-26T14:57:29.214352Z",
     "start_time": "2025-06-26T14:57:29.015520Z"
    }
   },
   "cell_type": "code",
   "source": "df['agePossession'] = df.apply(mode_based_imputation2,axis=1)",
   "id": "baf3769e15b41d72",
   "outputs": [],
   "execution_count": 105
  },
  {
   "metadata": {
    "ExecuteTime": {
     "end_time": "2025-06-26T14:57:41.086678Z",
     "start_time": "2025-06-26T14:57:41.074438Z"
    }
   },
   "cell_type": "code",
   "source": [
    "\n",
    "df['agePossession'].value_counts()"
   ],
   "id": "7baa52ba62ce9b05",
   "outputs": [
    {
     "data": {
      "text/plain": [
       "agePossession\n",
       "Relatively New        1837\n",
       "New Property           658\n",
       "Moderately Old         628\n",
       "Old Property           352\n",
       "Under Construction     299\n",
       "Undefined               28\n",
       "Name: count, dtype: int64"
      ]
     },
     "execution_count": 106,
     "metadata": {},
     "output_type": "execute_result"
    }
   ],
   "execution_count": 106
  },
  {
   "metadata": {
    "ExecuteTime": {
     "end_time": "2025-06-26T14:58:06.661816Z",
     "start_time": "2025-06-26T14:58:06.651356Z"
    }
   },
   "cell_type": "code",
   "source": [
    "def mode_based_imputation3(row):\n",
    "    if row['agePossession'] == 'Undefined':\n",
    "        mode_value = df[(df['property_type'] == row['property_type'])]['agePossession'].mode()\n",
    "        # If mode_value is empty (no mode found), return NaN, otherwise return the mode\n",
    "        if not mode_value.empty:\n",
    "            return mode_value.iloc[0]\n",
    "        else:\n",
    "            return np.nan\n",
    "    else:\n",
    "        return row['agePossession']"
   ],
   "id": "db691c184f832c47",
   "outputs": [],
   "execution_count": 107
  },
  {
   "metadata": {
    "ExecuteTime": {
     "end_time": "2025-06-26T14:58:21.907721Z",
     "start_time": "2025-06-26T14:58:21.843284Z"
    }
   },
   "cell_type": "code",
   "source": "df['agePossession'] = df.apply(mode_based_imputation3,axis=1)",
   "id": "ba84a5fe0741a67c",
   "outputs": [],
   "execution_count": 108
  },
  {
   "metadata": {
    "ExecuteTime": {
     "end_time": "2025-06-26T14:58:32.151566Z",
     "start_time": "2025-06-26T14:58:32.142538Z"
    }
   },
   "cell_type": "code",
   "source": "df['agePossession'].value_counts()",
   "id": "ac1c6816dee6621f",
   "outputs": [
    {
     "data": {
      "text/plain": [
       "agePossession\n",
       "Relatively New        1837\n",
       "New Property           658\n",
       "Moderately Old         656\n",
       "Old Property           352\n",
       "Under Construction     299\n",
       "Name: count, dtype: int64"
      ]
     },
     "execution_count": 109,
     "metadata": {},
     "output_type": "execute_result"
    }
   ],
   "execution_count": 109
  },
  {
   "metadata": {
    "ExecuteTime": {
     "end_time": "2025-06-26T15:00:22.775100Z",
     "start_time": "2025-06-26T15:00:22.738289Z"
    }
   },
   "cell_type": "code",
   "source": "df.to_csv('gurgaon_missing_value_imputation.csv',index=False)",
   "id": "223fb4e64dcf243f",
   "outputs": [],
   "execution_count": 114
  },
  {
   "metadata": {
    "ExecuteTime": {
     "end_time": "2025-06-26T14:59:45.452371Z",
     "start_time": "2025-06-26T14:59:45.445808Z"
    }
   },
   "cell_type": "code",
   "source": "df.shape",
   "id": "1612ce557c8b7dc1",
   "outputs": [
    {
     "data": {
      "text/plain": [
       "(3802, 18)"
      ]
     },
     "execution_count": 113,
     "metadata": {},
     "output_type": "execute_result"
    }
   ],
   "execution_count": 113
  },
  {
   "metadata": {},
   "cell_type": "code",
   "outputs": [],
   "execution_count": null,
   "source": "",
   "id": "e371caa718801c94"
  }
 ],
 "metadata": {
  "kernelspec": {
   "display_name": "Python 3",
   "language": "python",
   "name": "python3"
  },
  "language_info": {
   "codemirror_mode": {
    "name": "ipython",
    "version": 2
   },
   "file_extension": ".py",
   "mimetype": "text/x-python",
   "name": "python",
   "nbconvert_exporter": "python",
   "pygments_lexer": "ipython2",
   "version": "2.7.6"
  }
 },
 "nbformat": 4,
 "nbformat_minor": 5
}
